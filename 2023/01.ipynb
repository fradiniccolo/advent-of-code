{
 "cells": [
  {
   "cell_type": "code",
   "execution_count": null,
   "metadata": {},
   "outputs": [],
   "source": [
    "with open('01.txt', 'r') as file:\n",
    "    data = file.read().strip()"
   ]
  },
  {
   "cell_type": "code",
   "execution_count": null,
   "metadata": {},
   "outputs": [],
   "source": [
    "# puzzle 1\n",
    "\n",
    "rows = data.split('\\n')\n",
    "\n",
    "rows = [[item for item in row if item.isdigit()] for row in rows]\n",
    "rows = [(row[0], row[-1]) for row in rows if len(row) > 0]\n",
    "rows = [''.join(row) for row in rows]\n",
    "rows = [int(row) for row in rows]\n",
    "\n",
    "sum(rows) "
   ]
  },
  {
   "cell_type": "code",
   "execution_count": null,
   "metadata": {},
   "outputs": [],
   "source": [
    "# puzzle 2\n",
    "\n",
    "num_keys = ['one', 'two', 'three', 'four',\n",
    "            'five', 'six', 'seven', 'eight', 'nine']\n",
    "num_values = [number for number in '123456789']\n",
    "num_dict = dict(zip(num_keys, num_values))\n",
    "\n",
    "\n",
    "def text_to_num(text):\n",
    "    parsed = ''\n",
    "    for index, char in enumerate(text):\n",
    "        if char.isdigit():\n",
    "            parsed += char\n",
    "        elif any(text[index:].startswith(item) for item in num_keys):\n",
    "            for item in num_keys:\n",
    "                if text[index:].startswith(item):\n",
    "                    parsed += num_dict[item]\n",
    "                    break\n",
    "        else:\n",
    "            parsed += char\n",
    "    return parsed\n",
    "\n",
    "\n",
    "rows = data.split('\\n')\n",
    "rows = [text_to_num(row) for row in rows]\n",
    "rows = [[item for item in row if item.isdigit()] for row in rows]\n",
    "rows = [(row[0], row[-1]) for row in rows if len(row) > 0]\n",
    "rows = [''.join(row) for row in rows]\n",
    "rows = [int(row) for row in rows]\n",
    "\n",
    "sum(rows)"
   ]
  }
 ],
 "metadata": {
  "kernelspec": {
   "display_name": "Python 3",
   "language": "python",
   "name": "python3"
  },
  "language_info": {
   "codemirror_mode": {
    "name": "ipython",
    "version": 3
   },
   "file_extension": ".py",
   "mimetype": "text/x-python",
   "name": "python",
   "nbconvert_exporter": "python",
   "pygments_lexer": "ipython3",
   "version": "3.12.0"
  }
 },
 "nbformat": 4,
 "nbformat_minor": 2
}
