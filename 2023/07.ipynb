{
 "cells": [
  {
   "cell_type": "code",
   "execution_count": null,
   "metadata": {},
   "outputs": [],
   "source": [
    "with open(f'07.txt', 'r') as file:\n",
    "    data = file.read().strip()"
   ]
  },
  {
   "cell_type": "code",
   "execution_count": null,
   "metadata": {},
   "outputs": [],
   "source": [
    "hands, bids = zip(*[item.split() for item in data.split('\\n')])\n",
    "bids = list(map(int, bids))\n",
    "\n",
    "print(hands)\n",
    "print(bids)"
   ]
  },
  {
   "cell_type": "code",
   "execution_count": null,
   "metadata": {},
   "outputs": [],
   "source": [
    "from collections import Counter\n",
    "\n",
    "def get_rating(string):\n",
    "    # cards_strength\n",
    "    card_strength_dict = dict(zip(\"AKQJT98765432\", reversed(range(13))))\n",
    "    cards_strength = [card_strength_dict[item] for item in string]\n",
    "    \n",
    "    # \"fingerprint\" of the hand\n",
    "    counts = Counter(string).values()\n",
    "    counts = sorted(list(map(str, counts)), reverse=True)\n",
    "    counts = ''.join(counts)\n",
    "    # rating of kinds as numerical value\n",
    "    # Five of a kind, Four of a kind, Full house, Three of a kind, Two pair, One pair, High card\n",
    "    # becoming 6, 5, 4, 3, 2, 1, 0\n",
    "    counts_to_rating = dict(zip(['5', '41', '32', '311', '221', '2111', '11111'], reversed(range(7))))\n",
    "    hand_rating = counts_to_rating[counts]\n",
    "    return [hand_rating] + cards_strength"
   ]
  },
  {
   "cell_type": "code",
   "execution_count": null,
   "metadata": {},
   "outputs": [],
   "source": [
    "hands_breakdown = [[hand, get_rating(hand), bid] for hand, bid in zip(hands, bids)]\n",
    "hands_breakdown.sort(key=lambda x : x[1], reverse=True)\n",
    "hands_breakdown = [[index+1] + item for index, item in enumerate(hands_breakdown[::-1])]\n",
    "hands_breakdown"
   ]
  },
  {
   "cell_type": "code",
   "execution_count": null,
   "metadata": {},
   "outputs": [],
   "source": [
    "# puzzle 1\n",
    "sum([rank*bid for rank, hand, rating, bid in hands_breakdown])"
   ]
  },
  {
   "cell_type": "code",
   "execution_count": null,
   "metadata": {},
   "outputs": [],
   "source": [
    "def get_rating2(string):\n",
    "    \n",
    "    # cards_strength, J is now the lowest\n",
    "    card_strength_dict = dict(zip(\"AKQT98765432J\", reversed(range(13))))\n",
    "    cards_strength = [card_strength_dict[item] for item in string]\n",
    "    \n",
    "    # for the rest, like before, but maximizing with J, when present\n",
    "    if 'J' in string:\n",
    "        # pick more common card first (excluding J)\n",
    "        counter = Counter(string)\n",
    "        counter['J'] = 0\n",
    "        highest_cards = [key for key, value in counter.items() if value == max(counter.values())]\n",
    "        # then, when many, the higher\n",
    "        highest_card = max(highest_cards, key=card_strength_dict.get)\n",
    "        string = string.replace('J', highest_card)\n",
    "        \n",
    "    counts = Counter(string).values()\n",
    "    counts = sorted(list(map(str, counts)), reverse=True)\n",
    "    counts = ''.join(counts)\n",
    "    counts_to_rating = dict(zip(['5', '41', '32', '311', '221', '2111', '11111'], reversed(range(7))))\n",
    "    hand_rating = counts_to_rating[counts]\n",
    "    return [hand_rating] + cards_strength"
   ]
  },
  {
   "cell_type": "code",
   "execution_count": null,
   "metadata": {},
   "outputs": [],
   "source": [
    "hands_breakdown = [[hand, get_rating2(hand), bid] for hand, bid in zip(hands, bids)]\n",
    "hands_breakdown.sort(key=lambda x : x[1], reverse=True)\n",
    "hands_breakdown = [[index+1] + item for index, item in enumerate(hands_breakdown[::-1])]\n",
    "hands_breakdown"
   ]
  },
  {
   "cell_type": "code",
   "execution_count": null,
   "metadata": {},
   "outputs": [],
   "source": [
    "# puzzle 2\n",
    "sum([rank*bid for rank, hand, rating, bid in hands_breakdown])"
   ]
  }
 ],
 "metadata": {
  "kernelspec": {
   "display_name": "pg312",
   "language": "python",
   "name": "python3"
  },
  "language_info": {
   "codemirror_mode": {
    "name": "ipython",
    "version": 3
   },
   "file_extension": ".py",
   "mimetype": "text/x-python",
   "name": "python",
   "nbconvert_exporter": "python",
   "pygments_lexer": "ipython3",
   "version": "3.12.0"
  }
 },
 "nbformat": 4,
 "nbformat_minor": 2
}
