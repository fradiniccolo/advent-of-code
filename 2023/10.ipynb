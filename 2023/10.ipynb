{
 "cells": [
  {
   "cell_type": "code",
   "execution_count": null,
   "metadata": {},
   "outputs": [],
   "source": [
    "data = \"\"\".....\n",
    ".S-7.\n",
    ".|.|.\n",
    ".L-J.\n",
    ".....\"\"\""
   ]
  },
  {
   "cell_type": "code",
   "execution_count": null,
   "metadata": {},
   "outputs": [],
   "source": [
    "with open(f'10.txt', 'r') as file:\n",
    "    data = file.read().strip()"
   ]
  },
  {
   "cell_type": "code",
   "execution_count": null,
   "metadata": {},
   "outputs": [],
   "source": [
    "# clearer visualization\n",
    "\n",
    "ugly_map = data\n",
    "\n",
    "fancify_dict = dict(zip('|-LJ7F.S','║═╚╝╗╔·S'))\n",
    "fancy_map = data\n",
    "for key, value in fancify_dict.items():\n",
    "    fancy_map = fancy_map.replace(key, value)\n",
    "\n",
    "# with open(\"10-fancy_map.txt\", \"w\", encoding='utf-8') as file:\n",
    "#     file.write(fancy_pipes_map)"
   ]
  },
  {
   "cell_type": "code",
   "execution_count": null,
   "metadata": {},
   "outputs": [],
   "source": [
    "# puzzle 1\n",
    "\n",
    "def find_next_position(position, text_map, came_from=None):\n",
    "\n",
    "    row_length = text_map.find('\\n')\n",
    "    current_pipe = text_map[position]\n",
    "    next_positions = []\n",
    "    \n",
    "    # east\n",
    "    east_position = position+1\n",
    "    east_pipe = text_map[east_position]\n",
    "    if east_pipe in '═╝╗S' and current_pipe in '═╚╔S':\n",
    "        next_positions.append(east_position)\n",
    "\n",
    "    # north\n",
    "    north_position = position-row_length-1\n",
    "    north_pipe = text_map[north_position]\n",
    "    if north_pipe in '║╗╔S' and current_pipe in '║╚╝S':\n",
    "        next_positions.append(north_position)\n",
    "\n",
    "    # west\n",
    "    west_position = position-1\n",
    "    west_pipe = text_map[west_position]\n",
    "    if west_pipe in '═╚╔S' and current_pipe in '═╝╗S':\n",
    "        next_positions.append(west_position)\n",
    "\n",
    "    # south\n",
    "    south_position = position+row_length+1\n",
    "    south_pipe = text_map[south_position]\n",
    "    if south_pipe in '║╚╝S' and current_pipe in '║╗╔S':\n",
    "        next_positions.append(south_position)\n",
    "\n",
    "    next_positions = [item for item in next_positions if item != came_from]\n",
    "\n",
    "    return next_positions\n",
    "\n",
    "def replace_by_position(string, position, character):\n",
    "    if position > len(string):\n",
    "        position = position - len(string)\n",
    "    string = list(string)\n",
    "    string[position] = str(character)[-1]\n",
    "    return ''.join(string)\n",
    "\n",
    "step_count = 0\n",
    "start_position = fancy_map.find('S')\n",
    "\n",
    "old_position = None\n",
    "current_position = start_position\n",
    "next_position = find_next_position(current_position,fancy_map)[0]\n",
    "drawn_map = replace_by_position(fancy_map, current_position, step_count)\n",
    "while next_position != start_position:\n",
    "    step_count += 1\n",
    "    old_position = current_position\n",
    "    current_position = next_position\n",
    "    next_position = find_next_position(current_position,fancy_map, old_position)[0]\n",
    "    drawn_map = replace_by_position(drawn_map, current_position, step_count)\n",
    "\n",
    "print((step_count+1)//2)"
   ]
  }
 ],
 "metadata": {
  "kernelspec": {
   "display_name": "testing",
   "language": "python",
   "name": "python3"
  },
  "language_info": {
   "codemirror_mode": {
    "name": "ipython",
    "version": 3
   },
   "file_extension": ".py",
   "mimetype": "text/x-python",
   "name": "python",
   "nbconvert_exporter": "python",
   "pygments_lexer": "ipython3",
   "version": "3.12.0"
  }
 },
 "nbformat": 4,
 "nbformat_minor": 2
}
