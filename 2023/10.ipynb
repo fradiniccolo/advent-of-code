{
 "cells": [
  {
   "cell_type": "code",
   "execution_count": 114,
   "metadata": {},
   "outputs": [],
   "source": [
    "with open(f'10.txt', 'r') as file:\n",
    "    data = file.read().strip()"
   ]
  },
  {
   "cell_type": "code",
   "execution_count": 115,
   "metadata": {},
   "outputs": [],
   "source": [
    "# better visualization\n",
    "\n",
    "fancy_pipes_dict = dict(zip('|-LJ7F.S','║═╚╝╗╔·S'))\n",
    "fancy_pipes_map = data\n",
    "for key, value in fancy_pipes_dict.items():\n",
    "    fancy_pipes_map = fancy_pipes_map.replace(key, value)\n",
    "\n",
    "# with open(\"10-fancy_map.txt\", \"w\", encoding='utf-8') as file:\n",
    "#     file.write(fancy_pipes_map)"
   ]
  },
  {
   "cell_type": "code",
   "execution_count": 116,
   "metadata": {},
   "outputs": [
    {
     "name": "stdout",
     "output_type": "stream",
     "text": [
      "8612\n",
      "8615\n"
     ]
    },
    {
     "ename": "KeyError",
     "evalue": "'s'",
     "output_type": "error",
     "traceback": [
      "\u001b[0;31m---------------------------------------------------------------------------\u001b[0m",
      "\u001b[0;31mKeyError\u001b[0m                                  Traceback (most recent call last)",
      "Cell \u001b[0;32mIn[116], line 56\u001b[0m\n\u001b[1;32m     54\u001b[0m node_0 \u001b[38;5;241m=\u001b[39m parse_node(position, fancy_pipes_map, node_0)\n\u001b[1;32m     55\u001b[0m path_0\u001b[38;5;241m.\u001b[39mappend(node_0)\n\u001b[0;32m---> 56\u001b[0m node_1 \u001b[38;5;241m=\u001b[39m \u001b[43mparse_node\u001b[49m\u001b[43m(\u001b[49m\u001b[43mposition\u001b[49m\u001b[43m,\u001b[49m\u001b[43m \u001b[49m\u001b[43mfancy_pipes_map\u001b[49m\u001b[43m,\u001b[49m\u001b[43m \u001b[49m\u001b[43mnode_1\u001b[49m\u001b[43m)\u001b[49m\n\u001b[1;32m     57\u001b[0m path_1\u001b[38;5;241m.\u001b[39mappend(node_1)\n\u001b[1;32m     58\u001b[0m step \u001b[38;5;241m+\u001b[39m\u001b[38;5;241m=\u001b[39m \u001b[38;5;241m1\u001b[39m\n",
      "Cell \u001b[0;32mIn[116], line 40\u001b[0m, in \u001b[0;36mparse_node\u001b[0;34m(position, text_map, came_from)\u001b[0m\n\u001b[1;32m     38\u001b[0m     found \u001b[38;5;241m=\u001b[39m sample\u001b[38;5;241m.\u001b[39mfind(text_map[came_from])\n\u001b[1;32m     39\u001b[0m     found\u001b[38;5;241m=\u001b[39mdc[found]\n\u001b[0;32m---> 40\u001b[0m     \u001b[43mnext_nodes\u001b[49m\u001b[38;5;241;43m.\u001b[39;49m\u001b[43mpop\u001b[49m\u001b[43m(\u001b[49m\u001b[43mfound\u001b[49m\u001b[43m)\u001b[49m\n\u001b[1;32m     42\u001b[0m \u001b[38;5;28;01mreturn\u001b[39;00m \u001b[38;5;28mlist\u001b[39m(next_nodes\u001b[38;5;241m.\u001b[39mvalues())\n",
      "\u001b[0;31mKeyError\u001b[0m: 's'"
     ]
    }
   ],
   "source": [
    "def parse_node(position, text_map, came_from=None):\n",
    "\n",
    "    # get 3x3 sample around position\n",
    "    row_lenght = fancy_pipes_map.find('\\n')\n",
    "    # center\n",
    "    sample = text_map[position]\n",
    "    # east\n",
    "    sample = text_map[position-1] + sample\n",
    "    # west\n",
    "    sample = sample + text_map[position+1]\n",
    "    # north\n",
    "    sample = ' ' + text_map[position % row_lenght] + ' \\n' + sample\n",
    "    # south\n",
    "    sample = sample + '\\n ' + text_map[position+row_lenght+1] + ' '\n",
    "\n",
    "    # sample indexes\n",
    "    # · 1 · \\n\n",
    "    # 4 · 6 \\n\n",
    "    # · 9 ·\n",
    "\n",
    "    next_nodes = {}\n",
    "    # east\n",
    "    if sample[6] in '═╝╗':\n",
    "        next_nodes['e'] = position+6  # sample[6]\n",
    "    # north\n",
    "    if sample[1] in '║╗╔':\n",
    "        next_nodes['n'] = position+1\n",
    "    # west\n",
    "    if sample[4] in '═╚╔':\n",
    "        next_nodes['w'] = position+4\n",
    "    # south\n",
    "    if sample[9] in '║╚╝':\n",
    "        next_nodes['s'] = position+9\n",
    "\n",
    "    if came_from:\n",
    "        #dc = {6 : 'e', 1 : 'n', 4 : 'w', 9 : 's'}\n",
    "        dc = {6 : 'w', 1 : 's', 4 : 'e', 9 : 'n'}\n",
    "        found = sample.find(text_map[came_from])\n",
    "        found=dc[found]\n",
    "        next_nodes.pop(found)\n",
    "\n",
    "    return list(next_nodes.values())\n",
    "\n",
    "\n",
    "position = fancy_pipes_map.find('S')\n",
    "\n",
    "step = 0\n",
    "node_0, node_1 = parse_node(position, fancy_pipes_map)\n",
    "print(node_0)\n",
    "print(node_1)\n",
    "path_0 = [position]\n",
    "path_1 = [position]\n",
    "while step < 20:\n",
    "    node_0 = parse_node(position, fancy_pipes_map, node_0)\n",
    "    path_0.append(node_0)\n",
    "    node_1 = parse_node(position, fancy_pipes_map, node_1)\n",
    "    path_1.append(node_1)\n",
    "    step += 1\n",
    "path_0"
   ]
  }
 ],
 "metadata": {
  "kernelspec": {
   "display_name": "testing",
   "language": "python",
   "name": "python3"
  },
  "language_info": {
   "codemirror_mode": {
    "name": "ipython",
    "version": 3
   },
   "file_extension": ".py",
   "mimetype": "text/x-python",
   "name": "python",
   "nbconvert_exporter": "python",
   "pygments_lexer": "ipython3",
   "version": "3.12.0"
  }
 },
 "nbformat": 4,
 "nbformat_minor": 2
}
