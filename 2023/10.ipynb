{
 "cells": [
  {
   "cell_type": "code",
   "execution_count": 67,
   "metadata": {},
   "outputs": [],
   "source": [
    "with open(f'10.txt', 'r') as file:\n",
    "    data = file.read().strip()"
   ]
  },
  {
   "cell_type": "code",
   "execution_count": 68,
   "metadata": {},
   "outputs": [],
   "source": [
    "# better visualization\n",
    "\n",
    "fancy_pipes_dict = dict(zip('|-LJ7F.S','║═╚╝╗╔·S'))\n",
    "fancy_pipes_map = data\n",
    "for key, value in fancy_pipes_dict.items():\n",
    "    fancy_pipes_map = fancy_pipes_map.replace(key, value)\n",
    "\n",
    "#with open(\"10-fancy_map.txt\", \"w\", encoding='utf-8') as file:\n",
    "#    file.write(fancy_pipes_map)"
   ]
  },
  {
   "cell_type": "code",
   "execution_count": 69,
   "metadata": {},
   "outputs": [
    {
     "name": "stdout",
     "output_type": "stream",
     "text": [
      " ╗ \n",
      "╔S║\n",
      " ╗ \n"
     ]
    }
   ],
   "source": [
    "position = fancy_pipes_map.find('S')\n",
    "\n",
    "def get_sample(position, text_map):\n",
    "    row_lenght = len(text_map.split('\\n')[0])\n",
    "    # center\n",
    "    sample = text_map[position]\n",
    "    # left\n",
    "    sample = text_map[position-1] + sample\n",
    "    # right\n",
    "    sample = sample + text_map[position+1]\n",
    "    # up\n",
    "    sample = ' ' + text_map[position%row_lenght] + ' \\n' + sample\n",
    "    # down\n",
    "    sample = sample + '\\n ' + text_map[position+row_lenght+1] + ' '\n",
    "    return sample\n",
    "    \n",
    "node_sample = get_sample(position, fancy_pipes_map)\n",
    "print(node_sample)"
   ]
  },
  {
   "cell_type": "code",
   "execution_count": 71,
   "metadata": {},
   "outputs": [
    {
     "ename": "SyntaxError",
     "evalue": "invalid syntax (2750760748.py, line 19)",
     "output_type": "error",
     "traceback": [
      "\u001b[1;36m  Cell \u001b[1;32mIn[71], line 19\u001b[1;36m\u001b[0m\n\u001b[1;33m    if key not in\u001b[0m\n\u001b[1;37m                  ^\u001b[0m\n\u001b[1;31mSyntaxError\u001b[0m\u001b[1;31m:\u001b[0m invalid syntax\n"
     ]
    }
   ],
   "source": [
    "def get_connected(node):\n",
    "    connections = {}\n",
    "    # right : 6\n",
    "    if node[6] in '═╝╗':\n",
    "        connections['right'] = node[6]\n",
    "    # up    : 1\n",
    "    if node[1] in '║╗╔':\n",
    "        connections['up'] = node[1]\n",
    "    # left  : 4\n",
    "    if node[4] in '═╚╔':\n",
    "        connections['left'] = node[4]\n",
    "    # down  : 9\n",
    "    if node[9] in '║╚╝':\n",
    "        connections['down'] = node[9]\n",
    "    return connections\n",
    "\n",
    "def get_next(node, coming_from):\n",
    "    for key, item in coming_from.items():\n",
    "        if key not in \n",
    "    return\n",
    "\n",
    "get_next(node_sample, get_connected(node_sample))"
   ]
  },
  {
   "cell_type": "code",
   "execution_count": null,
   "metadata": {},
   "outputs": [],
   "source": []
  }
 ],
 "metadata": {
  "kernelspec": {
   "display_name": "testing",
   "language": "python",
   "name": "python3"
  },
  "language_info": {
   "codemirror_mode": {
    "name": "ipython",
    "version": 3
   },
   "file_extension": ".py",
   "mimetype": "text/x-python",
   "name": "python",
   "nbconvert_exporter": "python",
   "pygments_lexer": "ipython3",
   "version": "3.12.0"
  }
 },
 "nbformat": 4,
 "nbformat_minor": 2
}
