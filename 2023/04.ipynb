{
 "cells": [
  {
   "cell_type": "code",
   "execution_count": 2,
   "metadata": {},
   "outputs": [],
   "source": [
    "with open('04.txt', 'r') as file:\n",
    "    data = file.read().strip()"
   ]
  },
  {
   "cell_type": "code",
   "execution_count": 6,
   "metadata": {},
   "outputs": [
    {
     "name": "stdout",
     "output_type": "stream",
     "text": [
      "Card   1: 79  1  6  9 88 95 84 69 83 97 | 42 95  1  6 71 69 61 99 84 12 32 96  9 82 88 97 53 24 28 65 83 38  8 68 79\n"
     ]
    },
    {
     "data": {
      "text/plain": [
       "(['79', '1', '6', '9', '88', '95', '84', '69', '83', '97'],\n",
       " ['42',\n",
       "  '95',\n",
       "  '1',\n",
       "  '6',\n",
       "  '71',\n",
       "  '69',\n",
       "  '61',\n",
       "  '99',\n",
       "  '84',\n",
       "  '12',\n",
       "  '32',\n",
       "  '96',\n",
       "  '9',\n",
       "  '82',\n",
       "  '88',\n",
       "  '97',\n",
       "  '53',\n",
       "  '24',\n",
       "  '28',\n",
       "  '65',\n",
       "  '83',\n",
       "  '38',\n",
       "  '8',\n",
       "  '68',\n",
       "  '79'])"
      ]
     },
     "execution_count": 6,
     "metadata": {},
     "output_type": "execute_result"
    }
   ],
   "source": [
    "rows = data.split('\\n')\n",
    "#print(rows[0])\n",
    "rows = [row.split(': ')[1] for row in rows]\n",
    "rows = [row.split(' | ') for row in rows]\n",
    "rows = [(winning.split(), mine.split()) for winning, mine in rows]\n",
    "\n",
    "win_count = 0\n",
    "for row in rows:\n",
    "    for winning, mine in row:\n",
    "        for "
   ]
  },
  {
   "cell_type": "code",
   "execution_count": null,
   "metadata": {},
   "outputs": [],
   "source": []
  }
 ],
 "metadata": {
  "kernelspec": {
   "display_name": "Python 3",
   "language": "python",
   "name": "python3"
  },
  "language_info": {
   "codemirror_mode": {
    "name": "ipython",
    "version": 3
   },
   "file_extension": ".py",
   "mimetype": "text/x-python",
   "name": "python",
   "nbconvert_exporter": "python",
   "pygments_lexer": "ipython3",
   "version": "3.12.0"
  }
 },
 "nbformat": 4,
 "nbformat_minor": 2
}
