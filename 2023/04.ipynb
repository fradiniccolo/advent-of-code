{
 "cells": [
  {
   "cell_type": "code",
   "execution_count": null,
   "metadata": {},
   "outputs": [],
   "source": [
    "with open('04.txt', 'r') as file:\n",
    "    data = file.read().strip()"
   ]
  },
  {
   "cell_type": "code",
   "execution_count": null,
   "metadata": {},
   "outputs": [],
   "source": [
    "cards = data.split('\\n')\n",
    "cards = [row.split(': ')[1] for row in cards]\n",
    "cards = [row.split(' | ') for row in cards]\n",
    "cards = [[winning_nums.split(), my_nums.split()] for winning_nums, my_nums in cards]\n",
    "cards = [[[int(item) for item in winning_nums],[int(item) for item in my_nums]] for winning_nums, my_nums in cards]\n",
    "\n",
    "tot_win = 0\n",
    "for card in cards:\n",
    "    card_score = 0\n",
    "    winning_nums, my_nums = card\n",
    "    for num in my_nums:\n",
    "        if num in winning_nums:\n",
    "            card_score = card_score*2 if card_score > 0 else 1\n",
    "    tot_win += card_score\n",
    "\n",
    "# puzzle 1\n",
    "tot_win"
   ]
  },
  {
   "cell_type": "code",
   "execution_count": null,
   "metadata": {},
   "outputs": [],
   "source": [
    "from copy import deepcopy\n",
    "\n",
    "cards_with_scores = []\n",
    "for card_num, card in enumerate(cards):\n",
    "    card_score = 0\n",
    "    winning_nums, my_nums = card\n",
    "    for num in my_nums:\n",
    "        if num in winning_nums:\n",
    "            card_score += 1\n",
    "    cards_with_scores.append((card_num, card_score))\n",
    "\n",
    "cards_won = deepcopy(cards_with_scores)\n",
    "iteration = 0\n",
    "while iteration < len(cards_won):\n",
    "    card_num, card_score = cards_won[iteration]\n",
    "    for item in range(card_score):\n",
    "        cards_won.insert(iteration+1, cards_with_scores[card_num+item+1])\n",
    "    iteration += 1\n",
    "\n",
    "# puzzle 2\n",
    "sum([card_score for card_num, card_score in cards_won])    "
   ]
  }
 ],
 "metadata": {
  "kernelspec": {
   "display_name": "Python 3",
   "language": "python",
   "name": "python3"
  },
  "language_info": {
   "codemirror_mode": {
    "name": "ipython",
    "version": 3
   },
   "file_extension": ".py",
   "mimetype": "text/x-python",
   "name": "python",
   "nbconvert_exporter": "python",
   "pygments_lexer": "ipython3",
   "version": "3.9.6"
  }
 },
 "nbformat": 4,
 "nbformat_minor": 2
}
