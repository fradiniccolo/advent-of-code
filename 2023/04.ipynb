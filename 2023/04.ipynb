{
 "cells": [
  {
   "cell_type": "code",
   "execution_count": 50,
   "metadata": {},
   "outputs": [],
   "source": [
    "with open('/Users/francesco/Downloads/input.txt', 'r') as file:\n",
    "#with open('04.txt', 'r') as file:\n",
    "    data = file.read().strip()"
   ]
  },
  {
   "cell_type": "code",
   "execution_count": 51,
   "metadata": {},
   "outputs": [
    {
     "data": {
      "text/plain": [
       "26346"
      ]
     },
     "execution_count": 51,
     "metadata": {},
     "output_type": "execute_result"
    }
   ],
   "source": [
    "cards = data.split('\\n')\n",
    "cards = [row.split(': ')[1] for row in cards]\n",
    "cards = [row.split(' | ') for row in cards]\n",
    "cards = [[winning_nums.split(), my_nums.split()] for winning_nums, my_nums in cards]\n",
    "cards = [[[int(item) for item in winning_nums],[int(item) for item in my_nums]] for winning_nums, my_nums in cards]\n",
    "\n",
    "tot_win = 0\n",
    "for card in cards:\n",
    "    card_win = 0\n",
    "    winning_nums, my_nums = card\n",
    "    for num in my_nums:\n",
    "        if num in winning_nums:\n",
    "            card_win = card_win*2 if card_win > 0 else 1\n",
    "    tot_win += card_win\n",
    "tot_win  # puzzle 1"
   ]
  },
  {
   "cell_type": "code",
   "execution_count": 52,
   "metadata": {},
   "outputs": [
    {
     "data": {
      "text/plain": [
       "[[79, 1, 6, 9, 88, 95, 84, 69, 83, 97],\n",
       " [42,\n",
       "  95,\n",
       "  1,\n",
       "  6,\n",
       "  71,\n",
       "  69,\n",
       "  61,\n",
       "  99,\n",
       "  84,\n",
       "  12,\n",
       "  32,\n",
       "  96,\n",
       "  9,\n",
       "  82,\n",
       "  88,\n",
       "  97,\n",
       "  53,\n",
       "  24,\n",
       "  28,\n",
       "  65,\n",
       "  83,\n",
       "  38,\n",
       "  8,\n",
       "  68,\n",
       "  79]]"
      ]
     },
     "execution_count": 52,
     "metadata": {},
     "output_type": "execute_result"
    }
   ],
   "source": [
    "cards[0]"
   ]
  },
  {
   "cell_type": "code",
   "execution_count": 53,
   "metadata": {},
   "outputs": [
    {
     "data": {
      "text/plain": [
       "4151"
      ]
     },
     "execution_count": 53,
     "metadata": {},
     "output_type": "execute_result"
    }
   ],
   "source": [
    "from copy import copy\n",
    "\n",
    "cards_with_scores = copy(cards)\n",
    "for card in cards_with_scores:\n",
    "    card_win = 0\n",
    "    winning_nums, my_nums = card\n",
    "    for num in my_nums:\n",
    "        if num in winning_nums:\n",
    "            card_win += 1\n",
    "    card.append(card_win)\n",
    "\n",
    "cards_won = []\n",
    "for index, card in enumerate(cards_with_scores): \n",
    "    for item in range(card[-1]):\n",
    "        cards_won.append(cards_with_scores[index+item+1])\n",
    "sum([card_win for winning_nums, my_nums, card_win in cards_won]) # puzzle 2"
   ]
  },
  {
   "cell_type": "code",
   "execution_count": 54,
   "metadata": {},
   "outputs": [],
   "source": [
    "# WIP, 960, 4523 too low"
   ]
  }
 ],
 "metadata": {
  "kernelspec": {
   "display_name": "Python 3",
   "language": "python",
   "name": "python3"
  },
  "language_info": {
   "codemirror_mode": {
    "name": "ipython",
    "version": 3
   },
   "file_extension": ".py",
   "mimetype": "text/x-python",
   "name": "python",
   "nbconvert_exporter": "python",
   "pygments_lexer": "ipython3",
   "version": "3.9.6"
  }
 },
 "nbformat": 4,
 "nbformat_minor": 2
}
