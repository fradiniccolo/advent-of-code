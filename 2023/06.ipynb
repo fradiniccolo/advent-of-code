{
 "cells": [
  {
   "cell_type": "code",
   "execution_count": null,
   "metadata": {},
   "outputs": [],
   "source": [
    "with open(f'06.txt', 'r') as file:\n",
    "    data = file.read().strip()"
   ]
  },
  {
   "cell_type": "code",
   "execution_count": null,
   "metadata": {},
   "outputs": [],
   "source": [
    "durations, distances = data.split('\\n')\n",
    "durations = list(map(int, durations.split()[1:]))\n",
    "distances = list(map(int, distances.split()[1:]))\n",
    "races = list(zip(durations, distances))"
   ]
  },
  {
   "cell_type": "code",
   "execution_count": null,
   "metadata": {},
   "outputs": [],
   "source": [
    "races_outcomes = 1\n",
    "for race_duration, race_distance in races:\n",
    "    race_outcome = 0\n",
    "    for time in range(race_duration):\n",
    "        time_holding = time\n",
    "        time_remaining = race_duration-time_holding\n",
    "        speed = time_holding\n",
    "        distance = speed*time_remaining\n",
    "        result = distance > race_distance\n",
    "        race_outcome += result\n",
    "    races_outcomes *= race_outcome\n",
    "\n",
    "# puzzle 1\n",
    "races_outcomes"
   ]
  },
  {
   "cell_type": "code",
   "execution_count": null,
   "metadata": {},
   "outputs": [],
   "source": [
    "duration, distance = data.split('\\n')\n",
    "duration = int(''.join(duration.replace(' ','').split(':')[1:]))\n",
    "distance = int(''.join(distance.replace(' ','').split(':')[1:]))"
   ]
  },
  {
   "cell_type": "code",
   "execution_count": null,
   "metadata": {},
   "outputs": [],
   "source": [
    "race_duration, race_distance = [duration, distance]\n",
    "\n",
    "race_outcomes = 0\n",
    "for time in range(race_duration):\n",
    "    time_holding = time\n",
    "    time_remaining = race_duration-time_holding\n",
    "    speed = time_holding\n",
    "    distance = speed*time_remaining\n",
    "    result = distance > race_distance\n",
    "    race_outcomes += result\n",
    "\n",
    "# puzzle 2\n",
    "race_outcomes"
   ]
  }
 ],
 "metadata": {
  "kernelspec": {
   "display_name": "pg312",
   "language": "python",
   "name": "python3"
  },
  "language_info": {
   "codemirror_mode": {
    "name": "ipython",
    "version": 3
   },
   "file_extension": ".py",
   "mimetype": "text/x-python",
   "name": "python",
   "nbconvert_exporter": "python",
   "pygments_lexer": "ipython3",
   "version": "3.12.0"
  }
 },
 "nbformat": 4,
 "nbformat_minor": 2
}
