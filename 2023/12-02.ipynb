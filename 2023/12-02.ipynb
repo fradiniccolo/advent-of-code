{
 "cells": [
  {
   "cell_type": "code",
   "execution_count": 5,
   "metadata": {},
   "outputs": [],
   "source": [
    "with open('12-02.txt', 'r') as file:\n",
    "    data = file.read().strip()"
   ]
  },
  {
   "cell_type": "code",
   "execution_count": 6,
   "metadata": {},
   "outputs": [
    {
     "data": {
      "text/plain": [
       "2683"
      ]
     },
     "execution_count": 6,
     "metadata": {},
     "output_type": "execute_result"
    }
   ],
   "source": [
    "from collections import defaultdict\n",
    "\n",
    "games = data.split('\\n')\n",
    "games = [game.split(': ')[1].split('; ') for game in games]\n",
    "games = [[set.split(', ') for set in game] for game in games]\n",
    "games = [[item.split()[::-1] for set in game for item in set]\n",
    "         for game in games]\n",
    "\n",
    "games_rgb_max = []\n",
    "for game in games:\n",
    "    game_max_rgb = defaultdict(list)\n",
    "    for type, value in game:\n",
    "        game_max_rgb[type].append(int(value))\n",
    "    games_rgb_max.append(game_max_rgb)\n",
    "\n",
    "games_rgb_max = [[(key, max(value)) for key, value in game.items()]\n",
    "                 for game in games_rgb_max]\n",
    "games_rgb_max = [sorted(game, reverse=True) for game in games_rgb_max]\n",
    "games_rgb_max = [[int(item[1]) for item in game] for game in games_rgb_max]\n",
    "\n",
    "games_possible = [(game[0] <= 12 and game[1] <= 13 and game[2] <= 14)\n",
    "                  for game in games_rgb_max]\n",
    "\n",
    "sum_ids = 0\n",
    "for index, possibility in enumerate(games_possible):\n",
    "    if possibility:\n",
    "        sum_ids += index+1\n",
    "\n",
    "sum_ids  # puzzle 1"
   ]
  },
  {
   "cell_type": "code",
   "execution_count": 7,
   "metadata": {},
   "outputs": [
    {
     "data": {
      "text/plain": [
       "49710"
      ]
     },
     "execution_count": 7,
     "metadata": {},
     "output_type": "execute_result"
    }
   ],
   "source": [
    "from math import prod\n",
    "\n",
    "powers = [prod(game) for game in games_rgb_max]\n",
    "sum(powers)  # puzzle 2"
   ]
  }
 ],
 "metadata": {
  "kernelspec": {
   "display_name": "Python 3",
   "language": "python",
   "name": "python3"
  },
  "language_info": {
   "codemirror_mode": {
    "name": "ipython",
    "version": 3
   },
   "file_extension": ".py",
   "mimetype": "text/x-python",
   "name": "python",
   "nbconvert_exporter": "python",
   "pygments_lexer": "ipython3",
   "version": "3.12.0"
  }
 },
 "nbformat": 4,
 "nbformat_minor": 2
}
