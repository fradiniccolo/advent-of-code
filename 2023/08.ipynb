{
 "cells": [
  {
   "cell_type": "code",
   "execution_count": 350,
   "metadata": {},
   "outputs": [],
   "source": [
    "data = \"\"\"RL\n",
    "\n",
    "AAA = (BBB, CCC)\n",
    "BBB = (DDD, EEE)\n",
    "CCC = (ZZZ, GGG)\n",
    "DDD = (DDD, DDD)\n",
    "EEE = (EEE, EEE)\n",
    "GGG = (GGG, GGG)\n",
    "ZZZ = (ZZZ, ZZZ)\"\"\""
   ]
  },
  {
   "cell_type": "code",
   "execution_count": 352,
   "metadata": {},
   "outputs": [],
   "source": [
    "data = \"\"\"LLR\n",
    "\n",
    "AAA = (BBB, BBB)\n",
    "BBB = (AAA, ZZZ)\n",
    "ZZZ = (ZZZ, ZZZ)\"\"\""
   ]
  },
  {
   "cell_type": "code",
   "execution_count": 351,
   "metadata": {},
   "outputs": [],
   "source": [
    "with open(f'08.txt', 'r') as file:\n",
    "    data = file.read().strip()"
   ]
  },
  {
   "cell_type": "code",
   "execution_count": 353,
   "metadata": {},
   "outputs": [],
   "source": [
    "instructions, nodes = data.split('\\n\\n')\n",
    "\n",
    "instructions = [int(instruction == 'R') for instruction in instructions]\n",
    "    \n",
    "nodes = nodes.split('\\n')\n",
    "nodes = [node.split(' = ') for node in nodes]\n",
    "nodes = {key : value[1:-1].split(', ') for key, value in nodes}"
   ]
  },
  {
   "cell_type": "code",
   "execution_count": 354,
   "metadata": {},
   "outputs": [],
   "source": [
    "alp_num = {value : index for index, value in enumerate(nodes.keys())}"
   ]
  },
  {
   "cell_type": "code",
   "execution_count": 355,
   "metadata": {},
   "outputs": [],
   "source": [
    "initial_value = alp_num['AAA']\n",
    "final_value = alp_num['ZZZ']"
   ]
  },
  {
   "cell_type": "code",
   "execution_count": 356,
   "metadata": {},
   "outputs": [
    {
     "data": {
      "text/plain": [
       "6"
      ]
     },
     "execution_count": 356,
     "metadata": {},
     "output_type": "execute_result"
    }
   ],
   "source": [
    "# AAA = (BBB, BBB)   ->   0: (1, 1)   ->   0: (1, 1)    ->   (1, 1)\n",
    "# BBB = (AAA, ZZZ)   ->   1: (0, 2)   ->   1: (-1, 1)   ->   (-1, 1)\n",
    "# ZZZ = (ZZZ, ZZZ)   ->   2: (2, 2)   ->   2: (0, 0)    ->   (0, 0)\n",
    "\n",
    "num_nodes = {index : (alp_num[left], alp_num[right]) for index, (left, right) in enumerate(nodes.values())}\n",
    "\n",
    "num_delta = {key : (left - key, right - key) for key, (left, right) in num_nodes.items()}\n",
    "\n",
    "from collections import deque\n",
    "\n",
    "deltas = deque([item for item in num_delta.values()])\n",
    "instructions = deque(instructions)\n",
    "\n",
    "value = initial_value\n",
    "step_count = 0\n",
    "while value != final_value:\n",
    "    #print(step_count, value)\n",
    "    value += deltas[value][instructions[0]]\n",
    "    instructions.rotate(-1)\n",
    "    step_count+=1\n",
    "\n",
    "step_count"
   ]
  },
  {
   "cell_type": "code",
   "execution_count": 357,
   "metadata": {},
   "outputs": [
    {
     "data": {
      "text/plain": [
       "6"
      ]
     },
     "execution_count": 357,
     "metadata": {},
     "output_type": "execute_result"
    }
   ],
   "source": [
    "step_count"
   ]
  },
  {
   "cell_type": "code",
   "execution_count": null,
   "metadata": {},
   "outputs": [],
   "source": []
  }
 ],
 "metadata": {
  "kernelspec": {
   "display_name": "pg312",
   "language": "python",
   "name": "python3"
  },
  "language_info": {
   "codemirror_mode": {
    "name": "ipython",
    "version": 3
   },
   "file_extension": ".py",
   "mimetype": "text/x-python",
   "name": "python",
   "nbconvert_exporter": "python",
   "pygments_lexer": "ipython3",
   "version": "3.12.0"
  }
 },
 "nbformat": 4,
 "nbformat_minor": 2
}
