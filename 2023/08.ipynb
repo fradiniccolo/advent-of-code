{
 "cells": [
  {
   "cell_type": "code",
   "execution_count": 17,
   "metadata": {},
   "outputs": [],
   "source": [
    "data = \"\"\"RL\n",
    "\n",
    "AAA = (BBB, CCC)\n",
    "BBB = (DDD, EEE)\n",
    "CCC = (ZZZ, GGG)\n",
    "DDD = (DDD, DDD)\n",
    "EEE = (EEE, EEE)\n",
    "GGG = (GGG, GGG)\n",
    "ZZZ = (ZZZ, ZZZ)\"\"\""
   ]
  },
  {
   "cell_type": "code",
   "execution_count": 18,
   "metadata": {},
   "outputs": [],
   "source": [
    "data = \"\"\"LLR\n",
    "\n",
    "AAA = (BBB, BBB)\n",
    "BBB = (AAA, ZZZ)\n",
    "ZZZ = (ZZZ, ZZZ)\"\"\""
   ]
  },
  {
   "cell_type": "code",
   "execution_count": 19,
   "metadata": {},
   "outputs": [],
   "source": [
    "with open(f'08.txt', 'r') as file:\n",
    "    data = file.read().strip()"
   ]
  },
  {
   "cell_type": "code",
   "execution_count": 20,
   "metadata": {},
   "outputs": [],
   "source": [
    "instructions, nodes = data.split('\\n\\n')\n",
    "\n",
    "instructions = [int(instruction == 'R') for instruction in instructions]\n",
    "    \n",
    "nodes = nodes.split('\\n')\n",
    "nodes = [node.split(' = ') for node in nodes]\n",
    "nodes = {key : value[1:-1].split(', ') for key, value in nodes}\n",
    "\n",
    "current_node, final_node = list(nodes.keys())[::len(nodes)-1]\n",
    "\n",
    "steps = 0\n",
    "while current_node != final_node:\n",
    "    instruction = instructions[steps % len(instructions)]\n",
    "    #print(steps, instruction, current_node)\n",
    "    current_node = nodes[current_node][instruction]\n",
    "    steps += 1\n",
    "#print(steps, current_node)\n",
    "\n",
    "# puzzle 1\n",
    "print(steps)"
   ]
  }
 ],
 "metadata": {
  "kernelspec": {
   "display_name": "pg312",
   "language": "python",
   "name": "python3"
  },
  "language_info": {
   "codemirror_mode": {
    "name": "ipython",
    "version": 3
   },
   "file_extension": ".py",
   "mimetype": "text/x-python",
   "name": "python",
   "nbconvert_exporter": "python",
   "pygments_lexer": "ipython3",
   "version": "3.12.0"
  }
 },
 "nbformat": 4,
 "nbformat_minor": 2
}
