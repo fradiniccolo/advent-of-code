{
 "cells": [
  {
   "cell_type": "code",
   "execution_count": null,
   "metadata": {},
   "outputs": [],
   "source": [
    "with open(f'08.txt', 'r') as file:\n",
    "    data = file.read().strip()"
   ]
  },
  {
   "cell_type": "code",
   "execution_count": null,
   "metadata": {},
   "outputs": [],
   "source": [
    "instructions, nodes = data.split('\\n\\n')\n",
    "\n",
    "instructions = [int(instruction == 'R') for instruction in instructions]\n",
    "    \n",
    "nodes = nodes.split('\\n')\n",
    "nodes = [node.split(' = ') for node in nodes]\n",
    "nodes = {key : value[1:-1].split(', ') for key, value in nodes}"
   ]
  },
  {
   "cell_type": "code",
   "execution_count": null,
   "metadata": {},
   "outputs": [],
   "source": [
    "# puzzle 1\n",
    "\n",
    "initial_node = 'AAA'\n",
    "final_node = 'ZZZ'\n",
    "\n",
    "step_count = 0\n",
    "current_node = initial_node\n",
    "while current_node != final_node:\n",
    "    instruction = instructions[step_count % len(instructions)]\n",
    "    current_node = nodes[current_node][instruction]\n",
    "    step_count += 1\n",
    "\n",
    "step_count"
   ]
  },
  {
   "cell_type": "code",
   "execution_count": null,
   "metadata": {},
   "outputs": [],
   "source": [
    "# puzzle 1+\n",
    "\n",
    "# alternative solution, studied for fun\n",
    "\n",
    "# it avoids to use a dictionary for the main loop\n",
    "# but rather uses simple additions\n",
    "\n",
    "# turns out, it takes roughly the same amount of time :/\n",
    "\n",
    "# original           ->   alp_to_num  ->   num_nodes    ->   num_deltas\n",
    "# \n",
    "# AAA = (BBB, BBB)   ->   0: (1, 1)   ->   0: (1, 1)    ->   (1, 1)\n",
    "# BBB = (AAA, ZZZ)   ->   1: (0, 2)   ->   1: (-1, 1)   ->   (-1, 1)\n",
    "# ZZZ = (ZZZ, ZZZ)   ->   2: (2, 2)   ->   2: (0, 0)    ->   (0, 0)\n",
    "\n",
    "alp_to_num = {value : index for index, value in enumerate(nodes.keys())}\n",
    "\n",
    "initial_value = alp_to_num['AAA']\n",
    "final_value = alp_to_num['ZZZ']\n",
    "\n",
    "num_nodes = {index : (alp_to_num[left], alp_to_num[right]) for index, (left, right) in enumerate(nodes.values())}\n",
    "\n",
    "num_deltas = {key : (left - key, right - key) for key, (left, right) in num_nodes.items()}\n",
    "\n",
    "deltas = [item for item in num_deltas.values()]\n",
    "\n",
    "value = initial_value\n",
    "\n",
    "step_count = 0\n",
    "while value != final_value:\n",
    "    value += deltas[value][instructions[0]]\n",
    "    instructions.append(instructions.pop(0))\n",
    "    step_count+=1\n",
    "\n",
    "step_count"
   ]
  },
  {
   "cell_type": "code",
   "execution_count": null,
   "metadata": {},
   "outputs": [],
   "source": [
    "# puzzle 2\n",
    "\n",
    "# running the \"ghosts\" in parallel is too time consuming\n",
    "# we instead find the last node separately for each ghost\n",
    "\n",
    "# they will probably be on different steps:\n",
    "# by calculating the least common multiple of all the different steps\n",
    "# we find the number of steps where surely all the ghosts will meet\n",
    "\n",
    "initial_nodes = [key for key in nodes.keys() if key.endswith('A')]\n",
    "\n",
    "step_counts = []\n",
    "current_nodes = initial_nodes\n",
    "for current_node in current_nodes:\n",
    "    step_count = 0\n",
    "    while not current_node.endswith('Z'):\n",
    "        instruction = instructions[step_count % len(instructions)]\n",
    "        current_node = nodes[current_node][instruction]\n",
    "        step_count += 1\n",
    "    step_counts.append(step_count)\n",
    "\n",
    "def get_gcd_couple(a, b):\n",
    "    while b:\n",
    "        a, b = b, a % b\n",
    "    return a\n",
    "\n",
    "def get_lcm_couple(a, b):\n",
    "    return abs(a * b) // get_gcd_couple(a, b)\n",
    "\n",
    "def get_lcm_array(numbers):\n",
    "    result_lcm = numbers[0]\n",
    "    for num in numbers[1:]:\n",
    "        result_lcm = get_lcm_couple(result_lcm, num)\n",
    "    return result_lcm\n",
    "\n",
    "get_lcm_array(step_counts)"
   ]
  }
 ],
 "metadata": {
  "kernelspec": {
   "display_name": "pg312",
   "language": "python",
   "name": "python3"
  },
  "language_info": {
   "codemirror_mode": {
    "name": "ipython",
    "version": 3
   },
   "file_extension": ".py",
   "mimetype": "text/x-python",
   "name": "python",
   "nbconvert_exporter": "python",
   "pygments_lexer": "ipython3",
   "version": "3.12.0"
  }
 },
 "nbformat": 4,
 "nbformat_minor": 2
}
