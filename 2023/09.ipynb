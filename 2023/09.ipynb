{
 "cells": [
  {
   "cell_type": "code",
   "execution_count": null,
   "metadata": {},
   "outputs": [],
   "source": [
    "with open(f'09.txt', 'r') as file:\n",
    "    data = file.read().strip()"
   ]
  },
  {
   "cell_type": "code",
   "execution_count": null,
   "metadata": {},
   "outputs": [],
   "source": [
    "histories = [list(map(int, item.split())) for item in data.split('\\n')]"
   ]
  },
  {
   "cell_type": "code",
   "execution_count": null,
   "metadata": {},
   "outputs": [],
   "source": [
    "# puzzle 1\n",
    "\n",
    "def get_increases(history):\n",
    "    return [right-left for left, right in zip(history[:-1], history[1:])]\n",
    "\n",
    "\n",
    "def extrapolate(history):\n",
    "    increases = [history]   \n",
    "    while any(item != 0 for item in history):\n",
    "        history = get_increases(history)\n",
    "        increases.append(history)\n",
    "    next_value = 0\n",
    "    for item in increases[::-1]:\n",
    "        next_value += item[-1]\n",
    "    return next_value\n",
    "\n",
    "\n",
    "sum([extrapolate(history) for history in histories])"
   ]
  },
  {
   "cell_type": "code",
   "execution_count": null,
   "metadata": {},
   "outputs": [],
   "source": [
    "# puzzle 2\n",
    "\n",
    "def extrapolate_left(history):\n",
    "    increases = [history]\n",
    "    while any(item != 0 for item in history):\n",
    "        history = get_increases(history)\n",
    "        increases.append(history)\n",
    "    next_value = 0\n",
    "    for item in increases[::-1]:\n",
    "        next_value = -next_value\n",
    "        next_value += item[0]\n",
    "    return next_value\n",
    "\n",
    "\n",
    "sum([extrapolate_left(history) for history in histories])"
   ]
  }
 ],
 "metadata": {
  "kernelspec": {
   "display_name": "testing",
   "language": "python",
   "name": "python3"
  },
  "language_info": {
   "codemirror_mode": {
    "name": "ipython",
    "version": 3
   },
   "file_extension": ".py",
   "mimetype": "text/x-python",
   "name": "python",
   "nbconvert_exporter": "python",
   "pygments_lexer": "ipython3",
   "version": "3.12.0"
  }
 },
 "nbformat": 4,
 "nbformat_minor": 2
}
