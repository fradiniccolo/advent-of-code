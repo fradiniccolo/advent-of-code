{
 "cells": [
  {
   "cell_type": "code",
   "execution_count": null,
   "metadata": {},
   "outputs": [],
   "source": [
    "with open(\"03.txt\", \"r\") as file:\n",
    "    data = file.read().strip()"
   ]
  },
  {
   "cell_type": "code",
   "execution_count": null,
   "metadata": {},
   "outputs": [],
   "source": [
    "# puzzle 1\n",
    "\n",
    "import re\n",
    "\n",
    "width = len(data.split(\"\\n\")[0]) + 1\n",
    "height = len(data.split(\"\\n\"))\n",
    "\n",
    "symbols = set(data)\n",
    "for item in \".0123456789\\n\":\n",
    "    symbols.remove(item)\n",
    "\n",
    "matches = [match for match in re.finditer(r\"\\d+\", data)]\n",
    "\n",
    "# number_info = [number, x0, x1]\n",
    "numbers_info = [[match.group(0), *match.span()] for match in matches]\n",
    "numbers_info = [[int(part), x0, x1] for part, x0, x1 in numbers_info]\n",
    "\n",
    "\n",
    "def is_part(x0, x1):\n",
    "    top = data[x0 - width - 1: x1 - width + 1] if x0 > width else \"\"\n",
    "    bottom = data[x0 + width - 1: x1 + width + 1]\n",
    "    left = data[x0 - 1] if x0 > 0 else \"\"\n",
    "    right = data[x1]\n",
    "    boundary = top + bottom + left + right\n",
    "    return any(item in symbols for item in boundary)\n",
    "\n",
    "\n",
    "are_parts = [(number, is_part(x0, x1)) for number, x0, x1 in numbers_info]\n",
    "parts = [number for number, status in are_parts if status]\n",
    "\n",
    "sum(parts)"
   ]
  },
  {
   "cell_type": "code",
   "execution_count": null,
   "metadata": {},
   "outputs": [],
   "source": [
    "# puzzle 2\n",
    "\n",
    "from math import prod\n",
    "\n",
    "def is_geared(number, x0, x1):\n",
    "    top = data[x0 - width - 1: x1 - width + 1] if x0 > width else \"\"\n",
    "    if \"*\" in top:\n",
    "        return (number, data.find(\"*\", x0 - width - 1))\n",
    "    left = data[x0 - 1] if x0 > 0 else \"\"\n",
    "    if \"*\" in left:\n",
    "        return (number, x0 - 1)\n",
    "    right = data[x1] if x1 < len(data) else \"\"\n",
    "    if \"*\" in right:\n",
    "        return (number, x1)\n",
    "    bottom = data[x0 + width - 1: x1 + width +\n",
    "                  1] if x0 < height * (width - 1) else \"\"\n",
    "    if \"*\" in bottom:\n",
    "        return (number, data.find(\"*\", x0 + width - 1))\n",
    "\n",
    "\n",
    "geared = [is_geared(number, x0, x1) for number, x0, x1 in numbers_info]\n",
    "geared = [item for item in geared if item]\n",
    "\n",
    "geared_dict = {}\n",
    "for number, gear in geared:\n",
    "    if geared_dict.get(gear):\n",
    "        geared_dict[gear].append(number)\n",
    "    else:\n",
    "        geared_dict[gear] = [number]\n",
    "\n",
    "geared_couples = [value for key, value in geared_dict.items()\n",
    "                  if len(value) > 1]\n",
    "\n",
    "sum([prod(item) for item in geared_couples])"
   ]
  }
 ],
 "metadata": {
  "kernelspec": {
   "display_name": "Python 3",
   "language": "python",
   "name": "python3"
  },
  "language_info": {
   "codemirror_mode": {
    "name": "ipython",
    "version": 3
   },
   "file_extension": ".py",
   "mimetype": "text/x-python",
   "name": "python",
   "nbconvert_exporter": "python",
   "pygments_lexer": "ipython3",
   "version": "3.12.0"
  }
 },
 "nbformat": 4,
 "nbformat_minor": 2
}
