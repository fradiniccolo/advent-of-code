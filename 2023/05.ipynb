{
 "cells": [
  {
   "cell_type": "code",
   "execution_count": 305,
   "metadata": {},
   "outputs": [],
   "source": [
    "with open(f'05.txt', 'r') as file:\n",
    "    data = file.read().strip()"
   ]
  },
  {
   "cell_type": "code",
   "execution_count": 306,
   "metadata": {},
   "outputs": [],
   "source": [
    "seeds = data.split('\\n\\n')[0].split(': ')[-1].split()\n",
    "seeds = [int(seed) for seed in seeds]\n",
    "\n",
    "maps = data.split('\\n\\n')[1:]\n",
    "maps = [item.split(':\\n')[1] for item in maps]\n",
    "maps = [item.split('\\n') for item in maps]\n",
    "maps = [[item.split() for item in map] for map in maps]\n",
    "maps = [[[int(number) for number in item] for item in map] for map in maps]"
   ]
  },
  {
   "cell_type": "code",
   "execution_count": 307,
   "metadata": {},
   "outputs": [
    {
     "data": {
      "text/plain": [
       "388071289"
      ]
     },
     "execution_count": 307,
     "metadata": {},
     "output_type": "execute_result"
    }
   ],
   "source": [
    "def get_destination(number, map):\n",
    "    for row in map:\n",
    "        range_destination_start, range_source_start, range_length = row\n",
    "        if number in range(range_source_start, range_source_start+range_length):\n",
    "            return number - range_source_start + range_destination_start\n",
    "    return number\n",
    "\n",
    "min_lowest_location = None\n",
    "\n",
    "for number in seeds:\n",
    "    location = number\n",
    "    for map in maps:\n",
    "        location = get_destination(location, map)\n",
    "    if not min_lowest_location or location < min_lowest_location:\n",
    "        min_lowest_location = location\n",
    "\n",
    "# puzzle 1\n",
    "min_lowest_location"
   ]
  },
  {
   "cell_type": "code",
   "execution_count": 308,
   "metadata": {},
   "outputs": [],
   "source": [
    "#from itertools import batched\n",
    "#\n",
    "#seeds_2 = [(item0, item0+item1) for item0, item1 in batched(seeds, 2)]\n",
    "#\n",
    "#merged = []\n",
    "#for begin,end in sorted(seeds_2):\n",
    "#    if merged and merged[-1][1] >= begin - 1:\n",
    "#        merged[-1][1] = max(merged[-1][1], end)\n",
    "#    else:\n",
    "#        merged.append([begin, end])"
   ]
  },
  {
   "cell_type": "code",
   "execution_count": 309,
   "metadata": {},
   "outputs": [
    {
     "data": {
      "text/plain": [
       "171711421"
      ]
     },
     "execution_count": 309,
     "metadata": {},
     "output_type": "execute_result"
    }
   ],
   "source": [
    "# reverse direction\n",
    "\n",
    "from itertools import batched\n",
    "\n",
    "def get_source(number, map):\n",
    "    for row in map:\n",
    "        destination_start, source_start, span = row\n",
    "        if number in range(destination_start, destination_start+span):\n",
    "            return number - destination_start + source_start\n",
    "    return number\n",
    "\n",
    "min_lowest_location = None\n",
    "\n",
    "candidates = [(source_start, source_start+span-2) for map in maps for destination_start, source_start, span in map]\n",
    "candidates += [(destination_start, destination_start+span-2) for map in maps for destination_start, source_start, span in map]\n",
    "candidates += [(item0, item0+item1-2) for item0, item1 in batched(seeds, 2)]\n",
    "#candidates.sort(key=lambda x : x[0])\n",
    "candidates += [(item0+1, item1+1-2) for item0, item1 in candidates]\n",
    "candidates += [(item0-1, item1-1-2) for item0, item1 in candidates]\n",
    "\n",
    "while candidates:\n",
    "    for item in candidates.pop(0):\n",
    "        location = item\n",
    "        for map in maps[::-1]:\n",
    "            location = get_source(location, map)\n",
    "        if not min_lowest_location or \\\n",
    "            (any([location in range(item0, item0+item1) for item0, item1 in batched(seeds, 2)]) and location < min_lowest_location):\n",
    "                min_lowest_location = location\n",
    "\n",
    "# puzzle 2\n",
    "min_lowest_location"
   ]
  },
  {
   "cell_type": "code",
   "execution_count": 310,
   "metadata": {},
   "outputs": [
    {
     "data": {
      "text/plain": [
       "171711460"
      ]
     },
     "execution_count": 310,
     "metadata": {},
     "output_type": "execute_result"
    }
   ],
   "source": [
    "171711457\n",
    "\n",
    "\n",
    "2762480372\n",
    "2378348772\n",
    "3305534543\n",
    "937987465\n",
    "352628782\n",
    "201778106\n",
    "171711461\n",
    "171711460"
   ]
  }
 ],
 "metadata": {
  "kernelspec": {
   "display_name": "Python 3",
   "language": "python",
   "name": "python3"
  },
  "language_info": {
   "codemirror_mode": {
    "name": "ipython",
    "version": 3
   },
   "file_extension": ".py",
   "mimetype": "text/x-python",
   "name": "python",
   "nbconvert_exporter": "python",
   "pygments_lexer": "ipython3",
   "version": "3.12.0"
  }
 },
 "nbformat": 4,
 "nbformat_minor": 2
}
