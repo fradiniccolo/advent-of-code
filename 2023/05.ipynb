{
 "cells": [
  {
   "cell_type": "code",
   "execution_count": 49,
   "metadata": {},
   "outputs": [],
   "source": [
    "with open(f'05.txt', 'r') as file:\n",
    "    data = file.read().strip()"
   ]
  },
  {
   "cell_type": "code",
   "execution_count": 50,
   "metadata": {},
   "outputs": [],
   "source": [
    "seeds = data.split('\\n\\n')[0].split(': ')[-1].split()\n",
    "seeds = [int(seed) for seed in seeds]\n",
    "\n",
    "maps = data.split('\\n\\n')[1:]\n",
    "maps = [item.split(':\\n')[1] for item in maps]\n",
    "maps = [item.split('\\n') for item in maps]\n",
    "maps = [[item.split() for item in map] for map in maps]\n",
    "maps = [[[int(number) for number in item] for item in map] for map in maps]"
   ]
  },
  {
   "cell_type": "code",
   "execution_count": 51,
   "metadata": {},
   "outputs": [
    {
     "data": {
      "text/plain": [
       "388071289"
      ]
     },
     "execution_count": 51,
     "metadata": {},
     "output_type": "execute_result"
    }
   ],
   "source": [
    "def get_destination(seed, map):\n",
    "    for row in map:\n",
    "        range_out_start, range_in_start, range_length = row\n",
    "        if seed in range(range_in_start, range_in_start+range_length):\n",
    "            return seed - range_in_start + range_out_start\n",
    "    return seed\n",
    "\n",
    "min_lowest_location = None\n",
    "\n",
    "for number in seeds:\n",
    "    latest = number\n",
    "    for map in maps:\n",
    "        latest = get_destination(latest, map)\n",
    "    if not min_lowest_location or latest < min_lowest_location:\n",
    "        min_lowest_location = latest\n",
    "\n",
    "# puzzle 1\n",
    "min_lowest_location"
   ]
  },
  {
   "cell_type": "code",
   "execution_count": 52,
   "metadata": {},
   "outputs": [],
   "source": [
    "from itertools import batched\n",
    "\n",
    "seeds_2 = [(item0, item0+item1) for item0, item1 in batched(seeds, 2)]\n",
    "\n",
    "merged = []\n",
    "for begin,end in sorted(seeds_2):\n",
    "    if merged and merged[-1][1] >= begin - 1:\n",
    "        merged[-1][1] = max(merged[-1][1], end)\n",
    "    else:\n",
    "        merged.append([begin, end])"
   ]
  },
  {
   "cell_type": "code",
   "execution_count": 57,
   "metadata": {},
   "outputs": [
    {
     "data": {
      "text/plain": [
       "[[166086528, 210853524],\n",
       " [280549587, 984416942],\n",
       " [1054656969, 1223756736],\n",
       " [1233948799, 2045782636],\n",
       " [2326968141, 2396130363],\n",
       " [2600461189, 2692794035],\n",
       " [2698492851, 2713095920],\n",
       " [2755327667, 3104327198],\n",
       " [3169137700, 3440855309],\n",
       " [3522125441, 3545501536]]"
      ]
     },
     "execution_count": 57,
     "metadata": {},
     "output_type": "execute_result"
    }
   ],
   "source": [
    "merged"
   ]
  },
  {
   "cell_type": "code",
   "execution_count": 56,
   "metadata": {},
   "outputs": [
    {
     "name": "stdout",
     "output_type": "stream",
     "text": [
      "166086528\n"
     ]
    },
    {
     "ename": "KeyboardInterrupt",
     "evalue": "",
     "output_type": "error",
     "traceback": [
      "\u001b[1;31m---------------------------------------------------------------------------\u001b[0m",
      "\u001b[1;31mKeyboardInterrupt\u001b[0m                         Traceback (most recent call last)",
      "Cell \u001b[1;32mIn[56], line 8\u001b[0m\n\u001b[0;32m      6\u001b[0m latest \u001b[38;5;241m=\u001b[39m number\n\u001b[0;32m      7\u001b[0m \u001b[38;5;28;01mfor\u001b[39;00m \u001b[38;5;28mmap\u001b[39m \u001b[38;5;129;01min\u001b[39;00m maps:\n\u001b[1;32m----> 8\u001b[0m     latest \u001b[38;5;241m=\u001b[39m \u001b[43mget_destination\u001b[49m\u001b[43m(\u001b[49m\u001b[43mlatest\u001b[49m\u001b[43m,\u001b[49m\u001b[43m \u001b[49m\u001b[38;5;28;43mmap\u001b[39;49m\u001b[43m)\u001b[49m\n\u001b[0;32m      9\u001b[0m \u001b[38;5;28;01mif\u001b[39;00m \u001b[38;5;129;01mnot\u001b[39;00m min_lowest_location \u001b[38;5;129;01mor\u001b[39;00m latest \u001b[38;5;241m<\u001b[39m min_lowest_location:\n\u001b[0;32m     10\u001b[0m     min_lowest_location \u001b[38;5;241m=\u001b[39m latest\n",
      "Cell \u001b[1;32mIn[51], line 4\u001b[0m, in \u001b[0;36mget_destination\u001b[1;34m(seed, map)\u001b[0m\n\u001b[0;32m      2\u001b[0m \u001b[38;5;28;01mfor\u001b[39;00m row \u001b[38;5;129;01min\u001b[39;00m \u001b[38;5;28mmap\u001b[39m:\n\u001b[0;32m      3\u001b[0m     range_out_start, range_in_start, range_length \u001b[38;5;241m=\u001b[39m row\n\u001b[1;32m----> 4\u001b[0m     \u001b[38;5;28;01mif\u001b[39;00m seed \u001b[38;5;129;01min\u001b[39;00m \u001b[38;5;28mrange\u001b[39m(range_in_start, range_in_start\u001b[38;5;241m+\u001b[39mrange_length):\n\u001b[0;32m      5\u001b[0m         \u001b[38;5;28;01mreturn\u001b[39;00m seed \u001b[38;5;241m-\u001b[39m range_in_start \u001b[38;5;241m+\u001b[39m range_out_start\n\u001b[0;32m      6\u001b[0m \u001b[38;5;28;01mreturn\u001b[39;00m seed\n",
      "\u001b[1;31mKeyboardInterrupt\u001b[0m: "
     ]
    }
   ],
   "source": [
    "min_lowest_location = None\n",
    "\n",
    "for item0, item1 in merged:\n",
    "    for number in range(item0, item1):\n",
    "        latest = number\n",
    "        for map in maps:\n",
    "            latest = get_destination(latest, map)\n",
    "        if not min_lowest_location or latest < min_lowest_location:\n",
    "            min_lowest_location = latest\n",
    "\n",
    "# puzzle 2\n",
    "min_lowest_location"
   ]
  },
  {
   "cell_type": "code",
   "execution_count": 55,
   "metadata": {},
   "outputs": [
    {
     "data": {
      "text/plain": [
       "10"
      ]
     },
     "execution_count": 55,
     "metadata": {},
     "output_type": "execute_result"
    }
   ],
   "source": [
    "len(merged)"
   ]
  },
  {
   "cell_type": "code",
   "execution_count": null,
   "metadata": {},
   "outputs": [],
   "source": []
  }
 ],
 "metadata": {
  "kernelspec": {
   "display_name": "Python 3",
   "language": "python",
   "name": "python3"
  },
  "language_info": {
   "codemirror_mode": {
    "name": "ipython",
    "version": 3
   },
   "file_extension": ".py",
   "mimetype": "text/x-python",
   "name": "python",
   "nbconvert_exporter": "python",
   "pygments_lexer": "ipython3",
   "version": "3.12.0"
  }
 },
 "nbformat": 4,
 "nbformat_minor": 2
}
