{
 "cells": [
  {
   "cell_type": "markdown",
   "metadata": {},
   "source": [
    "# Day 2"
   ]
  },
  {
   "cell_type": "code",
   "execution_count": 1,
   "metadata": {},
   "outputs": [
    {
     "data": {
      "text/plain": [
       "'B Y\\nA X\\nC Z\\nA Z\\nB Y\\nB Y\\nA X\\nC Z\\nB Y\\nB Y\\nC Z\\nC X\\nB Y\\nC Z\\nB Y\\nC Z\\nA Z\\nA Z\\nA X\\nB Y\\nA X\\nC Z\\nC Y\\nC Z\\nC Z\\nC Z\\nA X\\nA X\\nB Y\\nA Z\\nB Z\\nB Y\\nA X\\nA X\\nC Z\\nB Y\\nB Y\\nB Z\\nA Z\\nA X\\nC Z\\nB Z\\nA Z\\nC Z\\nC Z\\nC Z\\nC Z\\nC Z\\nC Z\\nB X\\nA Z\\nA Z\\nC Z\\nC Z\\nC Z\\nA Y\\nC Z\\nB Y\\nC Z\\nC Z\\nC Z\\nB Y\\nB Z\\nA X\\nA X\\nC Z\\nB Y\\nB Y\\nB Z\\nA X\\nA X\\nC Z\\nB Y\\nC Z\\nA X\\nC Z\\nA X\\nC X\\nA Y\\nA Y\\nB Y\\nA Y\\nC Z\\nB Y\\nC Z\\nC Z\\nA X\\nC Z\\nA Z\\nC Z\\nA X\\nC Z\\nB Y\\nB Y\\nC Z\\nB Z\\nC Y\\nC Z\\nB Y\\nC Z\\nC Z\\nB X\\nA X\\nC Z\\nC Z\\nB Y\\nC Z\\nB Y\\nA Z\\nB Y\\nB Z\\nA Z\\nC Z\\nC Z\\nC Z\\nA Z\\nC Z\\nA X\\nA X\\nA Z\\nC Z\\nA X\\nA Z\\nC Z\\nA Z\\nA Y\\nB Y\\nA Z\\nB X\\nA X\\nC Z\\nC Z\\nB Y\\nC Y\\nB Y\\nB Z\\nB Y\\nB Y\\nC Z\\nC Z\\nC Z\\nC Z\\nA Y\\nC Z\\nB Z\\nA X\\nB Y\\nA Y\\nC Z\\nC Z\\nC Z\\nC Z\\nC Z\\nB Y\\nC Z\\nB Y\\nC Z\\nB Y\\nC Z\\nC X\\nA Y\\nA X\\nC Y\\nB Y\\nA Z\\nC Z\\nC Z\\nB Y\\nB Y\\nA X\\nB Y\\nA Y\\nA X\\nA X\\nB Y\\nA X\\nA X\\nB Y\\nC Z\\nC Z\\nB Y\\nC Z\\nA Z\\nC Z\\nB Z\\nC Z\\nA Y\\nC Z\\nB Z\\nC Z\\nA Y\\nA Y\\nC Z\\nA X\\nB Y\\nC Z\\nA X\\nB Y\\nB Y\\nA X\\nA X\\nC Z\\nB Y\\nC Z\\nB Z\\nC Z\\nA X\\nC Z\\nB Y\\nB Y\\nA X\\nB Z\\nC Z\\nB Z\\nB Y\\nB Y\\nA Y\\nB Z\\nA Z\\nC Z\\nC Z\\nA X\\nA X\\nA X\\nC Z\\nB Y\\nA X\\nA Y\\nC Z\\nA X\\nB Y\\nA Y\\nA Y\\nC Z\\nC Z\\nC Z\\nA Z\\nB Z\\nC Z\\nB Y\\nC Z\\nC Z\\nA Y\\nA X\\nC Z\\nB Y\\nC Z\\nC Z\\nB Y\\nB Y\\nA Y\\nC Z\\nB Y\\nB Y\\nA Z\\nC Z\\n'"
      ]
     },
     "execution_count": 1,
     "metadata": {},
     "output_type": "execute_result"
    }
   ],
   "source": [
    "with open('input-02.txt') as f:\n",
    "    lines = f.read()\n",
    "lines[:1024]"
   ]
  },
  {
   "cell_type": "code",
   "execution_count": 3,
   "metadata": {},
   "outputs": [
    {
     "data": {
      "text/plain": [
       "['B Y',\n",
       " 'A X',\n",
       " 'C Z',\n",
       " 'A Z',\n",
       " 'B Y',\n",
       " 'B Y',\n",
       " 'A X',\n",
       " 'C Z',\n",
       " 'B Y',\n",
       " 'B Y',\n",
       " 'C Z',\n",
       " 'C X',\n",
       " 'B Y',\n",
       " 'C Z',\n",
       " 'B Y',\n",
       " 'C Z']"
      ]
     },
     "execution_count": 3,
     "metadata": {},
     "output_type": "execute_result"
    }
   ],
   "source": [
    "data = lines\n",
    "data = data.split('\\n')[:-1]\n",
    "data[:16]"
   ]
  },
  {
   "cell_type": "code",
   "execution_count": 21,
   "metadata": {},
   "outputs": [],
   "source": [
    "scores = {\n",
    "    'A X' : 3+1,  \n",
    "    'A Y' : 6+2, \n",
    "    'A Z' : 0+3, \n",
    "    'B X' : 0+1, \n",
    "    'B Y' : 3+2, \n",
    "    'B Z' : 6+3, \n",
    "    'C X' : 6+1, \n",
    "    'C Y' : 0+2, \n",
    "    'C Z' : 3+3}"
   ]
  },
  {
   "cell_type": "code",
   "execution_count": 22,
   "metadata": {},
   "outputs": [
    {
     "data": {
      "text/plain": [
       "13675"
      ]
     },
     "execution_count": 22,
     "metadata": {},
     "output_type": "execute_result"
    }
   ],
   "source": [
    "answer1 = sum([scores[item] for item in data])\n",
    "answer1"
   ]
  },
  {
   "cell_type": "code",
   "execution_count": 23,
   "metadata": {},
   "outputs": [],
   "source": [
    "reinterpret = {\n",
    "    'A X' : 'A Z',  \n",
    "    'A Y' : 'A X', \n",
    "    'A Z' : 'A Y', \n",
    "    'B X' : 'B X', \n",
    "    'B Y' : 'B Y', \n",
    "    'B Z' : 'B Z', \n",
    "    'C X' : 'C Y', \n",
    "    'C Y' : 'C Z', \n",
    "    'C Z' : 'C X'}"
   ]
  },
  {
   "cell_type": "code",
   "execution_count": 24,
   "metadata": {},
   "outputs": [
    {
     "data": {
      "text/plain": [
       "14184"
      ]
     },
     "execution_count": 24,
     "metadata": {},
     "output_type": "execute_result"
    }
   ],
   "source": [
    "answer2 = sum([scores[reinterpret[item]] for item in data])\n",
    "answer2"
   ]
  }
 ],
 "metadata": {
  "kernelspec": {
   "display_name": "Python 3",
   "language": "python",
   "name": "python3"
  },
  "language_info": {
   "codemirror_mode": {
    "name": "ipython",
    "version": 3
   },
   "file_extension": ".py",
   "mimetype": "text/x-python",
   "name": "python",
   "nbconvert_exporter": "python",
   "pygments_lexer": "ipython3",
   "version": "3.11.1"
  },
  "orig_nbformat": 4,
  "vscode": {
   "interpreter": {
    "hash": "5238573367df39f7286bb46f9ff5f08f63a01a80960060ce41e3c79b190280fa"
   }
  }
 },
 "nbformat": 4,
 "nbformat_minor": 2
}
