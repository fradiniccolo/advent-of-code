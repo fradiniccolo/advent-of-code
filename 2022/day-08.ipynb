{
 "cells": [
  {
   "attachments": {},
   "cell_type": "markdown",
   "metadata": {},
   "source": [
    "# Day 8"
   ]
  },
  {
   "cell_type": "code",
   "execution_count": 15,
   "metadata": {},
   "outputs": [],
   "source": [
    "with open('input-08.txt') as f:\n",
    "    lines = f.read()"
   ]
  },
  {
   "cell_type": "code",
   "execution_count": 16,
   "metadata": {},
   "outputs": [],
   "source": [
    "data = lines\n",
    "data = data.split('\\n')[:-1]"
   ]
  },
  {
   "cell_type": "code",
   "execution_count": 17,
   "metadata": {},
   "outputs": [
    {
     "data": {
      "text/plain": [
       "['300030213213113240234210203330153124541151003015456312312442524531405533542450111443312103110220211',\n",
       " '133000004421300341005340432514034555543556261543410250030436135103304323425502113341331442032311030',\n",
       " '213121312230422241205230130541010120012561656126511652636160154566425231221254515542342023142010133',\n",
       " '210020103232311410025023513110540633654032560666266266442224400244155120504322112255323444432301210']"
      ]
     },
     "execution_count": 17,
     "metadata": {},
     "output_type": "execute_result"
    }
   ],
   "source": [
    "data[:4]"
   ]
  },
  {
   "cell_type": "code",
   "execution_count": 18,
   "metadata": {},
   "outputs": [],
   "source": [
    "forest = [[int(character) for character in row] for row in data]"
   ]
  },
  {
   "cell_type": "code",
   "execution_count": 19,
   "metadata": {},
   "outputs": [],
   "source": [
    "def isVisible(matrix, i, j):\n",
    "    \n",
    "    tree = matrix[j][i]\n",
    "    row = matrix[j]\n",
    "    column = [row[i] for row in matrix]\n",
    "    \n",
    "    rowLeft = max(row[:i], default=0)\n",
    "    rowRight = max(row[i+1:], default=0)\n",
    "    colunDown = max(column[:j], default=0)\n",
    "    columnUp = max(column[j+1:], default=0)\n",
    "    \n",
    "    cross = [rowLeft, rowRight, colunDown, columnUp]\n",
    "    \n",
    "    return tree > min(cross) \\\n",
    "        or i in [0, len(row)-1] \\\n",
    "        or j in [0, len(column)-1]"
   ]
  },
  {
   "cell_type": "code",
   "execution_count": 20,
   "metadata": {},
   "outputs": [
    {
     "data": {
      "text/plain": [
       "1717"
      ]
     },
     "execution_count": 20,
     "metadata": {},
     "output_type": "execute_result"
    }
   ],
   "source": [
    "answer1 = 0\n",
    "for j, row in enumerate(forest):\n",
    "    for i, character in enumerate(forest[0]):\n",
    "        answer1 += isVisible(forest, i, j)\n",
    "answer1"
   ]
  },
  {
   "cell_type": "code",
   "execution_count": 23,
   "metadata": {},
   "outputs": [],
   "source": [
    "def visibility(matrix, i, j):\n",
    "    \n",
    "    tree = matrix[j][i]\n",
    "    row = matrix[j]\n",
    "    column = [row[i] for row in matrix]\n",
    "    \n",
    "    rowLeft = row[:i][::-1]\n",
    "    rowRight = row[i+1:]\n",
    "    colunDown = column[:j][::-1]\n",
    "    columnUp = column[j+1:]\n",
    "\n",
    "    def trimmer(list, limit):\n",
    "        trimmed_list  = []\n",
    "        for item in list:\n",
    "            trimmed_list.append(item)\n",
    "            if item >= limit:\n",
    "                break\n",
    "        return trimmed_list\n",
    "    \n",
    "    visibleLeft = len(trimmer(rowLeft, tree))\n",
    "    visibleRight = len(trimmer(rowRight, tree))\n",
    "    visibleDown = len(trimmer(colunDown, tree))\n",
    "    visibleUp = len(trimmer(columnUp, tree))\n",
    "\n",
    "    return visibleLeft * visibleRight * visibleDown * visibleUp"
   ]
  },
  {
   "cell_type": "code",
   "execution_count": 24,
   "metadata": {},
   "outputs": [
    {
     "data": {
      "text/plain": [
       "321975"
      ]
     },
     "execution_count": 24,
     "metadata": {},
     "output_type": "execute_result"
    }
   ],
   "source": [
    "answer2 = []\n",
    "for j, row in enumerate(forest):\n",
    "    for i, character in enumerate(forest[0]):\n",
    "        answer2.append(visibility(forest, i, j))\n",
    "answer2 = max(answer2)\n",
    "answer2"
   ]
  }
 ],
 "metadata": {
  "kernelspec": {
   "display_name": "Python 3",
   "language": "python",
   "name": "python3"
  },
  "language_info": {
   "codemirror_mode": {
    "name": "ipython",
    "version": 3
   },
   "file_extension": ".py",
   "mimetype": "text/x-python",
   "name": "python",
   "nbconvert_exporter": "python",
   "pygments_lexer": "ipython3",
   "version": "3.11.1 (tags/v3.11.1:a7a450f, Dec  6 2022, 19:58:39) [MSC v.1934 64 bit (AMD64)]"
  },
  "orig_nbformat": 4,
  "vscode": {
   "interpreter": {
    "hash": "5238573367df39f7286bb46f9ff5f08f63a01a80960060ce41e3c79b190280fa"
   }
  }
 },
 "nbformat": 4,
 "nbformat_minor": 2
}
