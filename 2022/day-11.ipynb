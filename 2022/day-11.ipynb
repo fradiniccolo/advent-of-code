{
 "cells": [
  {
   "attachments": {},
   "cell_type": "markdown",
   "metadata": {},
   "source": [
    "# Day 11"
   ]
  },
  {
   "cell_type": "code",
   "execution_count": 38,
   "metadata": {},
   "outputs": [
    {
     "data": {
      "text/plain": [
       "[['Monkey 0:',\n",
       "  'Starting items: 64, 89, 65, 95',\n",
       "  'Operation: new = old * 7',\n",
       "  'Test: divisible by 3',\n",
       "  'If true: throw to monkey 4',\n",
       "  'If false: throw to monkey 1'],\n",
       " ['Monkey 1:',\n",
       "  'Starting items: 76, 66, 74, 87, 70, 56, 51, 66',\n",
       "  'Operation: new = old + 5',\n",
       "  'Test: divisible by 13',\n",
       "  'If true: throw to monkey 7',\n",
       "  'If false: throw to monkey 3'],\n",
       " ['Monkey 2:',\n",
       "  'Starting items: 91, 60, 63',\n",
       "  'Operation: new = old * old',\n",
       "  'Test: divisible by 2',\n",
       "  'If true: throw to monkey 6',\n",
       "  'If false: throw to monkey 5'],\n",
       " ['Monkey 3:',\n",
       "  'Starting items: 92, 61, 79, 97, 79',\n",
       "  'Operation: new = old + 6',\n",
       "  'Test: divisible by 11',\n",
       "  'If true: throw to monkey 2',\n",
       "  'If false: throw to monkey 6'],\n",
       " ['Monkey 4:',\n",
       "  'Starting items: 93, 54',\n",
       "  'Operation: new = old * 11',\n",
       "  'Test: divisible by 5',\n",
       "  'If true: throw to monkey 1',\n",
       "  'If false: throw to monkey 7'],\n",
       " ['Monkey 5:',\n",
       "  'Starting items: 60, 79, 92, 69, 88, 82, 70',\n",
       "  'Operation: new = old + 8',\n",
       "  'Test: divisible by 17',\n",
       "  'If true: throw to monkey 4',\n",
       "  'If false: throw to monkey 0'],\n",
       " ['Monkey 6:',\n",
       "  'Starting items: 64, 57, 73, 89, 55, 53',\n",
       "  'Operation: new = old + 1',\n",
       "  'Test: divisible by 19',\n",
       "  'If true: throw to monkey 0',\n",
       "  'If false: throw to monkey 5'],\n",
       " ['Monkey 7:',\n",
       "  'Starting items: 62',\n",
       "  'Operation: new = old + 4',\n",
       "  'Test: divisible by 7',\n",
       "  'If true: throw to monkey 3',\n",
       "  'If false: throw to monkey 2']]"
      ]
     },
     "execution_count": 38,
     "metadata": {},
     "output_type": "execute_result"
    }
   ],
   "source": [
    "with open('input-11.txt') as f:\n",
    "    lines = f.read().strip().split('\\n\\n')\n",
    "\n",
    "monkeys = [item.split('\\n') for item in lines]\n",
    "monkeys = [[instruction.strip() for instruction in monkey] for monkey in monkeys]\n",
    "monkeys"
   ]
  },
  {
   "cell_type": "code",
   "execution_count": 39,
   "metadata": {},
   "outputs": [],
   "source": [
    "class Monkey:\n",
    "\n",
    "    def __init__(self, instructions):\n",
    "\n",
    "\n",
    "        index, items, operation, test, outcome_true, outcome_false = instructions\n",
    "\n",
    "        self.index = int(index.split()[-1][:-1])\n",
    "        self.items = list(map(lambda item : int(item.strip()), items.split(': ')[1].split(',')))\n",
    "        self.operation = operation.split(': ')[1].split()[-2:]\n",
    "        self.divisible_by = int(test.split()[-1])\n",
    "        self.outcome_true = int(outcome_true.split()[-1])\n",
    "        self.outcome_false = int(outcome_false.split()[-1])\n",
    "    \n",
    "        self.items_inspected = 0\n",
    "        \n",
    "    def __repr__(self):\n",
    "        return f\"\"\"Monkey #{self.index}\n",
    "    Items: {self.items}\n",
    "    Operation: {''.join(self.operation)}  \n",
    "    Divisible_by: {self.divisible_by}\n",
    "        True: {self.outcome_true}\n",
    "        False: {self.outcome_false}\n",
    "    Items inspected: {self.items_inspected}\"\"\"\n",
    "    \n",
    "    def receive(self, received_item):\n",
    "        self.items.append(received_item)"
   ]
  },
  {
   "cell_type": "code",
   "execution_count": 40,
   "metadata": {},
   "outputs": [
    {
     "data": {
      "text/plain": [
       "[Monkey #0\n",
       "     Items: [64, 89, 65, 95]\n",
       "     Operation: *7  \n",
       "     Divisible_by: 3\n",
       "         True: 4\n",
       "         False: 1\n",
       "     Items inspected: 0,\n",
       " Monkey #1\n",
       "     Items: [76, 66, 74, 87, 70, 56, 51, 66]\n",
       "     Operation: +5  \n",
       "     Divisible_by: 13\n",
       "         True: 7\n",
       "         False: 3\n",
       "     Items inspected: 0]"
      ]
     },
     "execution_count": 40,
     "metadata": {},
     "output_type": "execute_result"
    }
   ],
   "source": [
    "import copy\n",
    "\n",
    "monkeys = [Monkey(instructions) for instructions in monkeys]\n",
    "monkeys_bu = copy.deepcopy(monkeys)\n",
    "monkeys[:2]"
   ]
  },
  {
   "cell_type": "code",
   "execution_count": 41,
   "metadata": {},
   "outputs": [],
   "source": [
    "from math import floor, prod\n",
    "\n",
    "round = 0\n",
    "while round < 20:\n",
    "    for monkey in monkeys:\n",
    "        while len(monkey.items) > 0:\n",
    "            item = monkey.items[0]\n",
    "\n",
    "            # worry level operation\n",
    "            if monkey.operation[1] == 'old':\n",
    "                item *= item\n",
    "            else:\n",
    "                if monkey.operation[0] == '*':\n",
    "                    item *= int(monkey.operation[1])\n",
    "                elif monkey.operation[0] == '+':\n",
    "                    item += int(monkey.operation[1])\n",
    "\n",
    "            # boredom reduction\n",
    "            item = int(floor(item/3))\n",
    "\n",
    "            # divisibility\n",
    "            if item % monkey.divisible_by == 0:\n",
    "                monkeys[monkey.outcome_true].receive(item)\n",
    "            else:\n",
    "                monkeys[monkey.outcome_false].receive(item)\n",
    "            monkey.items.pop(0)\n",
    "            monkey.items_inspected += 1\n",
    "            \n",
    "            # print(f'Round {round}, monkey #{monkey.index}: {monkey.items} -> {item}')\n",
    "    round += 1"
   ]
  },
  {
   "cell_type": "code",
   "execution_count": 42,
   "metadata": {},
   "outputs": [
    {
     "data": {
      "text/plain": [
       "113232"
      ]
     },
     "execution_count": 42,
     "metadata": {},
     "output_type": "execute_result"
    }
   ],
   "source": [
    "monkeys.sort(reverse=True, key = lambda monkey : monkey.items_inspected)\n",
    "top1, top2 = [monkey.items_inspected for monkey in monkeys[:2]]\n",
    "answer1 = top1*top2 \n",
    "answer1"
   ]
  },
  {
   "cell_type": "code",
   "execution_count": 44,
   "metadata": {},
   "outputs": [],
   "source": [
    "monkeys = copy.deepcopy(monkeys_bu)\n",
    "divisible_by_set = int(prod([monkey.divisible_by for monkey in monkeys]))\n",
    "\n",
    "round = 0\n",
    "while round < 10000:\n",
    "    for monkey in monkeys:\n",
    "        while len(monkey.items) > 0:\n",
    "            item = monkey.items[0]\n",
    "\n",
    "            # worry level operation\n",
    "            if monkey.operation[1] == 'old':\n",
    "                item *= item\n",
    "            else:\n",
    "                if monkey.operation[0] == '*':\n",
    "                    item *= int(monkey.operation[1])\n",
    "                elif monkey.operation[0] == '+':\n",
    "                    item += int(monkey.operation[1])\n",
    "\n",
    "            # chinese remainder theorem\n",
    "            item %= divisible_by_set\n",
    "\n",
    "            # divisibility\n",
    "            if item % monkey.divisible_by == 0:\n",
    "                monkeys[monkey.outcome_true].receive(item)\n",
    "            else:\n",
    "                monkeys[monkey.outcome_false].receive(item)\n",
    "            monkey.items.pop(0)\n",
    "            monkey.items_inspected += 1\n",
    "            \n",
    "    round += 1"
   ]
  },
  {
   "cell_type": "code",
   "execution_count": 45,
   "metadata": {},
   "outputs": [
    {
     "data": {
      "text/plain": [
       "29703395016"
      ]
     },
     "execution_count": 45,
     "metadata": {},
     "output_type": "execute_result"
    }
   ],
   "source": [
    "monkeys.sort(reverse=True, key = lambda monkey : monkey.items_inspected)\n",
    "top1, top2 = [monkey.items_inspected for monkey in monkeys[:2]]\n",
    "answer2 = top1*top2 \n",
    "answer2"
   ]
  }
 ],
 "metadata": {
  "kernelspec": {
   "display_name": "Python 3",
   "language": "python",
   "name": "python3"
  },
  "language_info": {
   "codemirror_mode": {
    "name": "ipython",
    "version": 3
   },
   "file_extension": ".py",
   "mimetype": "text/x-python",
   "name": "python",
   "nbconvert_exporter": "python",
   "pygments_lexer": "ipython3",
   "version": "3.11.1"
  },
  "orig_nbformat": 4,
  "vscode": {
   "interpreter": {
    "hash": "5238573367df39f7286bb46f9ff5f08f63a01a80960060ce41e3c79b190280fa"
   }
  }
 },
 "nbformat": 4,
 "nbformat_minor": 2
}
