{
 "cells": [
  {
   "attachments": {},
   "cell_type": "markdown",
   "metadata": {},
   "source": [
    "# Day 5"
   ]
  },
  {
   "cell_type": "code",
   "execution_count": 18,
   "metadata": {},
   "outputs": [
    {
     "data": {
      "text/plain": [
       "'                [V]     [C]     [M]\\n[V]     [J]     [N]     [H]     [V]\\n[R] [F] [N]     [W]     [Z]     [N]\\n[H] [R] [D]     [Q] [M] [L]     [B]\\n[B] [C] [H] [V] [R] [C] [G]     [R]\\n[G] [G] [F] [S] [D] [H] [B] [R] [S]\\n[D] [N] [S] [D] [H] [G] [J] [J] [G]\\n[W] [J] [L] [J] [S] [P] [F] [S] [L]\\n 1   2   3   4   5   6   7   8   9 \\n\\nmove 2 from 2 to 7\\nmove 8 from 5 to 6\\nmove 2 from 4 to 5\\nmove 1 from 4 to 5\\nmove 1 from 5 to 8\\nmove 5 from 9 to 2\\nmove 7 from 1 to 6\\nmove 7 from 3 to 8\\nmove 1 from 4 to 6\\nmove 2 from 5 to 6\\nmove 6 from 7 to 5\\nmove 2 from 2 to 4\\nmove 4 from 5 to 2\\nmove 10 from 8 to 1\\nmove 2 from 7 to 4\\nmove 4 from 2 to 8\\nmove 2 from 9 to 8\\nmove 1 from 8 to 4\\nmove 2 from 4 to 9\\nmove 5 from 8 to 2\\nmove 1 from 4 to 6\\nmove 1 from 8 to 9\\nmove 1 from 7 to 2\\nmove 2 from 4 to 2\\nmove 1 from 7 to 3\\nmove 13 from 2 to 1\\nmove 1 from 2 to 4\\nmove 1 from 2 to 3\\nmove 2 from 5 to 4\\nmove 17 from 6 to 4\\nmove 3 from 4 to 9\\nmove 14 from 1 to 4\\nmove 4 from 6 to 8\\nmove 1 from 9 to 8\\nmove 23 from 4 to 8\\nmove 6 from 1 to 7\\nmove 3 fro'"
      ]
     },
     "execution_count": 18,
     "metadata": {},
     "output_type": "execute_result"
    }
   ],
   "source": [
    "with open('input-05.txt') as f:\n",
    "    lines = f.read()\n",
    "lines[:1024]"
   ]
  },
  {
   "cell_type": "code",
   "execution_count": 19,
   "metadata": {},
   "outputs": [
    {
     "data": {
      "text/plain": [
       "['                [V]     [C]     [M]',\n",
       " '[V]     [J]     [N]     [H]     [V]',\n",
       " '[R] [F] [N]     [W]     [Z]     [N]',\n",
       " '[H] [R] [D]     [Q] [M] [L]     [B]',\n",
       " '[B] [C] [H] [V] [R] [C] [G]     [R]',\n",
       " '[G] [G] [F] [S] [D] [H] [B] [R] [S]',\n",
       " '[D] [N] [S] [D] [H] [G] [J] [J] [G]',\n",
       " '[W] [J] [L] [J] [S] [P] [F] [S] [L]',\n",
       " ' 1   2   3   4   5   6   7   8   9 ',\n",
       " '',\n",
       " 'move 2 from 2 to 7',\n",
       " 'move 8 from 5 to 6',\n",
       " 'move 2 from 4 to 5',\n",
       " 'move 1 from 4 to 5',\n",
       " 'move 1 from 5 to 8',\n",
       " 'move 5 from 9 to 2']"
      ]
     },
     "execution_count": 19,
     "metadata": {},
     "output_type": "execute_result"
    }
   ],
   "source": [
    "data = lines\n",
    "data = data.split('\\n')[:-1]\n",
    "data[:16]"
   ]
  },
  {
   "cell_type": "code",
   "execution_count": 20,
   "metadata": {},
   "outputs": [
    {
     "data": {
      "text/plain": [
       "['                [V]     [C]     [M]',\n",
       " '[V]     [J]     [N]     [H]     [V]',\n",
       " '[R] [F] [N]     [W]     [Z]     [N]',\n",
       " '[H] [R] [D]     [Q] [M] [L]     [B]',\n",
       " '[B] [C] [H] [V] [R] [C] [G]     [R]',\n",
       " '[G] [G] [F] [S] [D] [H] [B] [R] [S]',\n",
       " '[D] [N] [S] [D] [H] [G] [J] [J] [G]',\n",
       " '[W] [J] [L] [J] [S] [P] [F] [S] [L]']"
      ]
     },
     "execution_count": 20,
     "metadata": {},
     "output_type": "execute_result"
    }
   ],
   "source": [
    "data[:8]"
   ]
  },
  {
   "cell_type": "code",
   "execution_count": 21,
   "metadata": {},
   "outputs": [
    {
     "data": {
      "text/plain": [
       "['    V C M',\n",
       " 'V J N H V',\n",
       " 'RFN W Z N',\n",
       " 'HRD QML B',\n",
       " 'BCHVRCG R',\n",
       " 'GGFSDHBRS',\n",
       " 'DNSDHGJJG',\n",
       " 'WJLJSPFSL']"
      ]
     },
     "execution_count": 21,
     "metadata": {},
     "output_type": "execute_result"
    }
   ],
   "source": [
    "data_clean = [i[1:][::4] for i in data[:8]]\n",
    "data_clean"
   ]
  },
  {
   "cell_type": "code",
   "execution_count": 22,
   "metadata": {},
   "outputs": [
    {
     "data": {
      "text/plain": [
       "[(' ', 'V', 'R', 'H', 'B', 'G', 'D', 'W'),\n",
       " (' ', ' ', 'F', 'R', 'C', 'G', 'N', 'J'),\n",
       " (' ', 'J', 'N', 'D', 'H', 'F', 'S', 'L'),\n",
       " (' ', ' ', ' ', ' ', 'V', 'S', 'D', 'J'),\n",
       " ('V', 'N', 'W', 'Q', 'R', 'D', 'H', 'S'),\n",
       " (' ', ' ', ' ', 'M', 'C', 'H', 'G', 'P'),\n",
       " ('C', 'H', 'Z', 'L', 'G', 'B', 'J', 'F'),\n",
       " (' ', ' ', ' ', ' ', ' ', 'R', 'J', 'S'),\n",
       " ('M', 'V', 'N', 'B', 'R', 'S', 'G', 'L')]"
      ]
     },
     "execution_count": 22,
     "metadata": {},
     "output_type": "execute_result"
    }
   ],
   "source": [
    "data_clean = list(zip(*data_clean))\n",
    "data_clean"
   ]
  },
  {
   "cell_type": "code",
   "execution_count": 23,
   "metadata": {},
   "outputs": [
    {
     "data": {
      "text/plain": [
       "[['V', 'R', 'H', 'B', 'G', 'D', 'W'],\n",
       " ['F', 'R', 'C', 'G', 'N', 'J'],\n",
       " ['J', 'N', 'D', 'H', 'F', 'S', 'L'],\n",
       " ['V', 'S', 'D', 'J'],\n",
       " ['V', 'N', 'W', 'Q', 'R', 'D', 'H', 'S'],\n",
       " ['M', 'C', 'H', 'G', 'P'],\n",
       " ['C', 'H', 'Z', 'L', 'G', 'B', 'J', 'F'],\n",
       " ['R', 'J', 'S'],\n",
       " ['M', 'V', 'N', 'B', 'R', 'S', 'G', 'L']]"
      ]
     },
     "execution_count": 23,
     "metadata": {},
     "output_type": "execute_result"
    }
   ],
   "source": [
    "stacks = [[crate for crate in stack if crate != ' '] for stack in data_clean]\n",
    "stacks"
   ]
  },
  {
   "cell_type": "code",
   "execution_count": 24,
   "metadata": {},
   "outputs": [
    {
     "data": {
      "text/plain": [
       "['VRHBGDW',\n",
       " 'FRCGNJ',\n",
       " 'JNDHFSL',\n",
       " 'VSDJ',\n",
       " 'VNWQRDHS',\n",
       " 'MCHGP',\n",
       " 'CHZLGBJF',\n",
       " 'RJS',\n",
       " 'MVNBRSGL']"
      ]
     },
     "execution_count": 24,
     "metadata": {},
     "output_type": "execute_result"
    }
   ],
   "source": [
    "stacks = [''.join(stack) for stack in stacks]\n",
    "stacks"
   ]
  },
  {
   "cell_type": "code",
   "execution_count": 25,
   "metadata": {},
   "outputs": [
    {
     "data": {
      "text/plain": [
       "['move 2 from 2 to 7',\n",
       " 'move 8 from 5 to 6',\n",
       " 'move 2 from 4 to 5',\n",
       " 'move 1 from 4 to 5',\n",
       " 'move 1 from 5 to 8',\n",
       " 'move 5 from 9 to 2',\n",
       " 'move 7 from 1 to 6',\n",
       " 'move 7 from 3 to 8']"
      ]
     },
     "execution_count": 25,
     "metadata": {},
     "output_type": "execute_result"
    }
   ],
   "source": [
    "data[10:][:8]"
   ]
  },
  {
   "cell_type": "code",
   "execution_count": 26,
   "metadata": {},
   "outputs": [
    {
     "data": {
      "text/plain": [
       "[[2, 2, 7],\n",
       " [8, 5, 6],\n",
       " [2, 4, 5],\n",
       " [1, 4, 5],\n",
       " [1, 5, 8],\n",
       " [5, 9, 2],\n",
       " [7, 1, 6],\n",
       " [7, 3, 8]]"
      ]
     },
     "execution_count": 26,
     "metadata": {},
     "output_type": "execute_result"
    }
   ],
   "source": [
    "instructions = data[10:]\n",
    "instructions = [instruction.split(' ')[1:][::2] for instruction in instructions]\n",
    "instructions = [[int(item) for item in instruction] for instruction in instructions]\n",
    "\n",
    "instructions[:8]"
   ]
  },
  {
   "cell_type": "code",
   "execution_count": 27,
   "metadata": {},
   "outputs": [
    {
     "name": "stdout",
     "output_type": "stream",
     "text": [
      "['VRHBGDW', 'RCGNJ', 'JNDHFSL', 'VSDJ', 'VNWQRDHS', 'MCHGP', 'FCHZLGBJF', 'RJS', 'MVNBRSGL']\n",
      "['VRHBGDW', 'CGNJ', 'JNDHFSL', 'VSDJ', 'VNWQRDHS', 'MCHGP', 'RFCHZLGBJF', 'RJS', 'MVNBRSGL']\n",
      "['VRHBGDW', 'CGNJ', 'JNDHFSL', 'VSDJ', 'NWQRDHS', 'VMCHGP', 'RFCHZLGBJF', 'RJS', 'MVNBRSGL']\n",
      "['VRHBGDW', 'CGNJ', 'JNDHFSL', 'VSDJ', 'WQRDHS', 'NVMCHGP', 'RFCHZLGBJF', 'RJS', 'MVNBRSGL']\n",
      "['VRHBGDW', 'CGNJ', 'JNDHFSL', 'VSDJ', 'QRDHS', 'WNVMCHGP', 'RFCHZLGBJF', 'RJS', 'MVNBRSGL']\n",
      "['VRHBGDW', 'CGNJ', 'JNDHFSL', 'VSDJ', 'RDHS', 'QWNVMCHGP', 'RFCHZLGBJF', 'RJS', 'MVNBRSGL']\n",
      "['VRHBGDW', 'CGNJ', 'JNDHFSL', 'VSDJ', 'DHS', 'RQWNVMCHGP', 'RFCHZLGBJF', 'RJS', 'MVNBRSGL']\n",
      "['VRHBGDW', 'CGNJ', 'JNDHFSL', 'VSDJ', 'HS', 'DRQWNVMCHGP', 'RFCHZLGBJF', 'RJS', 'MVNBRSGL']\n",
      "['VRHBGDW', 'CGNJ', 'JNDHFSL', 'VSDJ', 'S', 'HDRQWNVMCHGP', 'RFCHZLGBJF', 'RJS', 'MVNBRSGL']\n",
      "['VRHBGDW', 'CGNJ', 'JNDHFSL', 'VSDJ', '', 'SHDRQWNVMCHGP', 'RFCHZLGBJF', 'RJS', 'MVNBRSGL']\n",
      "['VRHBGDW', 'CGNJ', 'JNDHFSL', 'SDJ', 'V', 'SHDRQWNVMCHGP', 'RFCHZLGBJF', 'RJS', 'MVNBRSGL']\n",
      "['VRHBGDW', 'CGNJ', 'JNDHFSL', 'DJ', 'SV', 'SHDRQWNVMCHGP', 'RFCHZLGBJF', 'RJS', 'MVNBRSGL']\n",
      "['VRHBGDW', 'CGNJ', 'JNDHFSL', 'J', 'DSV', 'SHDRQWNVMCHGP', 'RFCHZLGBJF', 'RJS', 'MVNBRSGL']\n",
      "['', 'SRL', 'V', 'NSP', 'JCHSBN', 'HQCGDHGJVWRJGSLDHRDNL', 'HFFMBGBRMNZVFWGSRCDV', '', 'JJ']\n",
      "['', 'SRL', 'V', 'NSP', 'CHSBN', 'HQCGDHGJVWRJGSLDHRDNL', 'JHFFMBGBRMNZVFWGSRCDV', '', 'JJ']\n",
      "['', 'SRL', 'V', 'NSP', 'HSBN', 'HQCGDHGJVWRJGSLDHRDNL', 'CJHFFMBGBRMNZVFWGSRCDV', '', 'JJ']\n",
      "['J', 'SRL', 'V', 'NSP', 'HSBN', 'HQCGDHGJVWRJGSLDHRDNL', 'CJHFFMBGBRMNZVFWGSRCDV', '', 'J']\n",
      "['J', 'RL', 'V', 'NSP', 'HSBN', 'HQCGDHGJVWRJGSLDHRDNL', 'CJHFFMBGBRMNZVFWGSRCDV', 'S', 'J']\n"
     ]
    }
   ],
   "source": [
    "moved_stacks = stacks.copy()\n",
    "\n",
    "for index, instruction in enumerate(instructions):\n",
    "    count, stack_from, stack_to = instruction\n",
    "    stack_from -= 1\n",
    "    stack_to -= 1\n",
    "    for iteration in range(count):\n",
    "        moved_stacks[stack_to] = moved_stacks[stack_from][0] + moved_stacks[stack_to]\n",
    "        moved_stacks[stack_from] = moved_stacks[stack_from][1:]\n",
    "        if index > len(instructions)-4 or index <4:\n",
    "            print([''.join(stack) for stack in moved_stacks])"
   ]
  },
  {
   "cell_type": "code",
   "execution_count": 28,
   "metadata": {},
   "outputs": [
    {
     "data": {
      "text/plain": [
       "'JRVNHHCSJ'"
      ]
     },
     "execution_count": 28,
     "metadata": {},
     "output_type": "execute_result"
    }
   ],
   "source": [
    "top_crates = [stack[0] for stack in moved_stacks]\n",
    "answer1 = ''.join(top_crates)\n",
    "answer1 "
   ]
  },
  {
   "cell_type": "code",
   "execution_count": 29,
   "metadata": {},
   "outputs": [
    {
     "data": {
      "text/plain": [
       "['VRHBGDW',\n",
       " 'FRCGNJ',\n",
       " 'JNDHFSL',\n",
       " 'VSDJ',\n",
       " 'VNWQRDHS',\n",
       " 'MCHGP',\n",
       " 'CHZLGBJF',\n",
       " 'RJS',\n",
       " 'MVNBRSGL']"
      ]
     },
     "execution_count": 29,
     "metadata": {},
     "output_type": "execute_result"
    }
   ],
   "source": [
    "stacks"
   ]
  },
  {
   "cell_type": "code",
   "execution_count": 30,
   "metadata": {},
   "outputs": [
    {
     "name": "stdout",
     "output_type": "stream",
     "text": [
      "['VRHBGDW', 'CGNJ', 'JNDHFSL', 'VSDJ', 'VNWQRDHS', 'MCHGP', 'FRCHZLGBJF', 'RJS', 'MVNBRSGL']\n",
      "['VRHBGDW', 'CGNJ', 'JNDHFSL', 'VSDJ', '', 'VNWQRDHSMCHGP', 'FRCHZLGBJF', 'RJS', 'MVNBRSGL']\n",
      "['VRHBGDW', 'CGNJ', 'JNDHFSL', 'DJ', 'VS', 'VNWQRDHSMCHGP', 'FRCHZLGBJF', 'RJS', 'MVNBRSGL']\n",
      "['VRHBGDW', 'CGNJ', 'JNDHFSL', 'J', 'DVS', 'VNWQRDHSMCHGP', 'FRCHZLGBJF', 'RJS', 'MVNBRSGL']\n",
      "['', 'LNJ', 'F', 'BVJ', 'SVGV', 'BPLRDSCBHSWDRNZDHSNDR', 'JQHJNWVGFSFCRLJGHCGRMM', '', 'GH']\n",
      "['G', 'LNJ', 'F', 'BVJ', 'SVGV', 'BPLRDSCBHSWDRNZDHSNDR', 'JQHJNWVGFSFCRLJGHCGRMM', '', 'H']\n",
      "['G', 'NJ', 'F', 'BVJ', 'SVGV', 'BPLRDSCBHSWDRNZDHSNDR', 'JQHJNWVGFSFCRLJGHCGRMM', 'L', 'H']\n"
     ]
    }
   ],
   "source": [
    "moved_stacks = stacks.copy()\n",
    "\n",
    "for index, instruction in enumerate(instructions):\n",
    "    count, stack_from, stack_to = instruction\n",
    "    stack_from -= 1\n",
    "    stack_to -= 1\n",
    "    #for iteration in range(count):\n",
    "    moved_stacks[stack_to] = moved_stacks[stack_from][:count] + moved_stacks[stack_to]\n",
    "    moved_stacks[stack_from] = moved_stacks[stack_from][count:]\n",
    "    if index > len(instructions)-4 or index <4:\n",
    "        print([''.join(stack) for stack in moved_stacks])"
   ]
  },
  {
   "cell_type": "code",
   "execution_count": 31,
   "metadata": {},
   "outputs": [
    {
     "data": {
      "text/plain": [
       "'GNFBSBJLH'"
      ]
     },
     "execution_count": 31,
     "metadata": {},
     "output_type": "execute_result"
    }
   ],
   "source": [
    "top_crates_9001 = [stack[0] for stack in moved_stacks]\n",
    "answer2 = ''.join(top_crates_9001)\n",
    "answer2"
   ]
  }
 ],
 "metadata": {
  "kernelspec": {
   "display_name": "Python 3",
   "language": "python",
   "name": "python3"
  },
  "language_info": {
   "codemirror_mode": {
    "name": "ipython",
    "version": 3
   },
   "file_extension": ".py",
   "mimetype": "text/x-python",
   "name": "python",
   "nbconvert_exporter": "python",
   "pygments_lexer": "ipython3",
   "version": "3.11.1"
  },
  "orig_nbformat": 4,
  "vscode": {
   "interpreter": {
    "hash": "5238573367df39f7286bb46f9ff5f08f63a01a80960060ce41e3c79b190280fa"
   }
  }
 },
 "nbformat": 4,
 "nbformat_minor": 2
}
