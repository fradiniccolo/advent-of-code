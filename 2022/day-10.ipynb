{
 "cells": [
  {
   "attachments": {},
   "cell_type": "markdown",
   "metadata": {},
   "source": [
    "# Day 10"
   ]
  },
  {
   "cell_type": "code",
   "execution_count": 59,
   "metadata": {},
   "outputs": [],
   "source": [
    "with open('input-10.txt') as f:\n",
    "    lines = f.read()"
   ]
  },
  {
   "cell_type": "code",
   "execution_count": 60,
   "metadata": {},
   "outputs": [],
   "source": [
    "data = lines\n",
    "data = data.split('\\n')[:-1]"
   ]
  },
  {
   "cell_type": "code",
   "execution_count": 61,
   "metadata": {},
   "outputs": [
    {
     "data": {
      "text/plain": [
       "['addx 1', 'addx 5', 'noop', 'addx -1', 'noop', 'addx 3', 'addx 29', 'addx -1']"
      ]
     },
     "execution_count": 61,
     "metadata": {},
     "output_type": "execute_result"
    }
   ],
   "source": [
    "data[:8]"
   ]
  },
  {
   "cell_type": "code",
   "execution_count": 62,
   "metadata": {},
   "outputs": [],
   "source": [
    "# instructions as (cycles, value)\n",
    "instructions = [(2, int(item.split()[1])) if item.startswith('addx') else (1, 0) for item in data]"
   ]
  },
  {
   "cell_type": "code",
   "execution_count": 63,
   "metadata": {},
   "outputs": [
    {
     "data": {
      "text/plain": [
       "[(2, 1), (2, 5), (1, 0), (2, -1), (1, 0), (2, 3), (2, 29), (2, -1)]"
      ]
     },
     "execution_count": 63,
     "metadata": {},
     "output_type": "execute_result"
    }
   ],
   "source": [
    "instructions[:8]"
   ]
  },
  {
   "cell_type": "code",
   "execution_count": 64,
   "metadata": {},
   "outputs": [
    {
     "name": "stdout",
     "output_type": "stream",
     "text": [
      "1 1\n",
      "2 1\n",
      "3 2\n",
      "4 2\n",
      "5 7\n",
      "6 7\n",
      "7 7\n",
      "8 6\n",
      "9 6\n",
      "10 6\n",
      "11 9\n",
      "12 9\n",
      "13 38\n",
      "14 38\n",
      "15 37\n",
      "16 37\n",
      "17 16\n",
      "18 16\n",
      "19 21\n",
      "20 21\n",
      "21 21\n",
      "22 1\n",
      "23 1\n",
      "24 22\n",
      "25 22\n",
      "26 24\n",
      "27 24\n",
      "28 32\n",
      "29 32\n",
      "30 31\n",
      "31 31\n",
      "32 31\n",
      "33 31\n",
      "34 31\n",
      "35 31\n",
      "36 37\n",
      "37 37\n",
      "38 36\n",
      "39 36\n",
      "40 -1\n",
      "41 -1\n",
      "42 39\n",
      "43 39\n",
      "44 29\n",
      "45 29\n",
      "46 4\n",
      "47 4\n",
      "48 9\n",
      "49 9\n",
      "50 11\n",
      "51 11\n",
      "52 16\n",
      "53 16\n",
      "54 16\n",
      "55 16\n",
      "56 16\n",
      "57 37\n",
      "58 37\n",
      "59 17\n",
      "60 17\n",
      "61 19\n",
      "62 19\n",
      "63 19\n",
      "64 22\n",
      "65 22\n",
      "66 24\n",
      "67 24\n",
      "68 19\n",
      "69 19\n",
      "70 31\n",
      "71 31\n",
      "72 34\n",
      "73 34\n",
      "74 34\n",
      "75 36\n",
      "76 36\n",
      "77 39\n",
      "78 39\n",
      "79 37\n",
      "80 37\n",
      "81 0\n",
      "82 0\n",
      "83 1\n",
      "84 1\n",
      "85 6\n",
      "86 6\n",
      "87 9\n",
      "88 9\n",
      "89 7\n",
      "90 7\n",
      "91 9\n",
      "92 9\n",
      "93 38\n",
      "94 38\n",
      "95 16\n",
      "96 16\n",
      "97 29\n",
      "98 29\n",
      "99 29\n",
      "100 21\n",
      "101 21\n",
      "102 15\n",
      "103 15\n",
      "104 22\n",
      "105 22\n",
      "106 24\n",
      "107 24\n",
      "108 24\n",
      "109 31\n",
      "110 31\n",
      "111 29\n",
      "112 29\n",
      "113 34\n",
      "114 34\n",
      "115 36\n",
      "116 36\n",
      "117 10\n",
      "118 10\n",
      "119 -1\n",
      "120 -1\n",
      "121 -1\n",
      "122 -1\n",
      "123 5\n",
      "124 5\n",
      "125 6\n",
      "126 6\n",
      "127 7\n",
      "128 7\n",
      "129 7\n",
      "130 11\n",
      "131 11\n",
      "132 16\n",
      "133 16\n",
      "134 16\n",
      "135 16\n",
      "136 14\n",
      "137 14\n",
      "138 17\n",
      "139 17\n",
      "140 17\n",
      "141 19\n",
      "142 19\n",
      "143 24\n",
      "144 24\n",
      "145 26\n",
      "146 26\n",
      "147 4\n",
      "148 4\n",
      "149 31\n",
      "150 31\n",
      "151 30\n",
      "152 30\n",
      "153 31\n",
      "154 31\n",
      "155 36\n",
      "156 36\n",
      "157 38\n",
      "158 38\n",
      "159 38\n",
      "160 -1\n",
      "161 -1\n",
      "162 21\n",
      "163 21\n",
      "164 21\n",
      "165 6\n",
      "166 6\n",
      "167 9\n",
      "168 9\n",
      "169 7\n",
      "170 7\n",
      "171 9\n",
      "172 9\n",
      "173 7\n",
      "174 7\n",
      "175 16\n",
      "176 16\n",
      "177 19\n",
      "178 19\n",
      "179 19\n",
      "180 21\n",
      "181 21\n",
      "182 24\n",
      "183 24\n",
      "184 22\n",
      "185 22\n",
      "186 24\n",
      "187 24\n",
      "188 24\n",
      "189 24\n",
      "190 24\n",
      "191 29\n",
      "192 29\n",
      "193 12\n",
      "194 12\n",
      "195 36\n",
      "196 36\n",
      "197 29\n",
      "198 29\n",
      "199 37\n",
      "200 37\n",
      "201 1\n",
      "202 1\n",
      "203 3\n",
      "204 3\n",
      "205 6\n",
      "206 6\n",
      "207 39\n",
      "208 39\n",
      "209 7\n",
      "210 7\n",
      "211 11\n",
      "212 11\n",
      "213 12\n",
      "214 12\n",
      "215 12\n",
      "216 17\n",
      "217 17\n",
      "218 17\n",
      "219 17\n",
      "220 37\n",
      "221 37\n",
      "222 22\n",
      "223 22\n",
      "224 26\n",
      "225 26\n",
      "226 26\n",
      "227 27\n",
      "228 27\n",
      "229 27\n",
      "230 31\n",
      "231 31\n",
      "232 37\n",
      "233 37\n",
      "234 7\n",
      "235 7\n",
      "236 37\n",
      "237 37\n",
      "238 37\n",
      "239 37\n",
      "240 37\n",
      "241 37\n"
     ]
    }
   ],
   "source": [
    "x = [1]\n",
    "for instruction in instructions:\n",
    "    cycles, value = instruction\n",
    "    for i in range(cycles-1):\n",
    "        x.append(x[-1])\n",
    "    x.append(x[-1]+value)\n",
    "\n",
    "for cycle, signal_strength in enumerate(x,1):\n",
    "    print(cycle, signal_strength)\n"
   ]
  },
  {
   "cell_type": "code",
   "execution_count": 65,
   "metadata": {},
   "outputs": [
    {
     "data": {
      "text/plain": [
       "[20, 60, 100, 140, 180, 220]"
      ]
     },
     "execution_count": 65,
     "metadata": {},
     "output_type": "execute_result"
    }
   ],
   "source": [
    "samples_indexes = list(range(20, len(x), 40))\n",
    "samples_indexes"
   ]
  },
  {
   "cell_type": "code",
   "execution_count": 66,
   "metadata": {},
   "outputs": [
    {
     "data": {
      "text/plain": [
       "[420, 1020, 2100, 2380, 3780, 8140]"
      ]
     },
     "execution_count": 66,
     "metadata": {},
     "output_type": "execute_result"
    }
   ],
   "source": [
    "signal_strengths = []\n",
    "for index in samples_indexes:\n",
    "    signal_strengths.append(x[index-1]*index)\n",
    "signal_strengths"
   ]
  },
  {
   "cell_type": "code",
   "execution_count": 67,
   "metadata": {},
   "outputs": [
    {
     "data": {
      "text/plain": [
       "17840"
      ]
     },
     "execution_count": 67,
     "metadata": {},
     "output_type": "execute_result"
    }
   ],
   "source": [
    "answer1 = sum(signal_strengths)\n",
    "answer1"
   ]
  },
  {
   "cell_type": "code",
   "execution_count": 74,
   "metadata": {},
   "outputs": [
    {
     "name": "stdout",
     "output_type": "stream",
     "text": [
      "1 1 2 2 7 7 7 6 6 6 9 9 38 38 37 37 16 16 21 21 21 1 1 22 22 24 24 32 32 31 31 31 31 31 31 37 37 36 36 -1\n",
      "-1 39 39 29 29 4 4 9 9 11 11 16 16 16 16 16 37 37 17 17 19 19 19 22 22 24 24 19 19 31 31 34 34 34 36 36 39 39 37 37\n",
      "0 0 1 1 6 6 9 9 7 7 9 9 38 38 16 16 29 29 29 21 21 15 15 22 22 24 24 24 31 31 29 29 34 34 36 36 10 10 -1 -1\n",
      "-1 -1 5 5 6 6 7 7 7 11 11 16 16 16 16 14 14 17 17 17 19 19 24 24 26 26 4 4 31 31 30 30 31 31 36 36 38 38 38 -1\n",
      "-1 21 21 21 6 6 9 9 7 7 9 9 7 7 16 16 19 19 19 21 21 24 24 22 22 24 24 24 24 24 29 29 12 12 36 36 29 29 37 37\n",
      "1 1 3 3 6 6 39 39 7 7 11 11 12 12 12 17 17 17 17 37 37 22 22 26 26 26 27 27 27 31 31 37 37 7 7 37 37 37 37 37\n"
     ]
    }
   ],
   "source": [
    "a = [x[i*40:(i+1)*40] for i in range(len(x)//40)]\n",
    "for row in a:\n",
    "    print(' '.join([str(n) for n in row]))"
   ]
  },
  {
   "cell_type": "code",
   "execution_count": 76,
   "metadata": {},
   "outputs": [],
   "source": [
    "instructions_rows = [x[i*40:(i+1)*40] for i in range(len(x)//40)]"
   ]
  },
  {
   "cell_type": "code",
   "execution_count": 81,
   "metadata": {},
   "outputs": [],
   "source": [
    "screen = []\n",
    "for index_y, instructions_row in enumerate(instructions_rows):\n",
    "    row = []\n",
    "    for index_x, instruction in enumerate(instructions_row):\n",
    "        if index_x == instruction or index_x+1 == instruction or index_x-1 == instruction:\n",
    "            pixel = '#' \n",
    "        else:\n",
    "            pixel = '.' \n",
    "        row.append(pixel)\n",
    "    screen.append(row)"
   ]
  },
  {
   "cell_type": "code",
   "execution_count": 82,
   "metadata": {},
   "outputs": [
    {
     "name": "stdout",
     "output_type": "stream",
     "text": [
      "####..##..#.....##..#..#.#....###...##..\n",
      "#....#..#.#....#..#.#..#.#....#..#.#..#.\n",
      "###..#..#.#....#....#..#.#....#..#.#....\n",
      "#....####.#....#.##.#..#.#....###..#.##.\n",
      "#....#..#.#....#..#.#..#.#....#....#..#.\n",
      "####.#..#.####..###..##..####.#.....###.\n"
     ]
    }
   ],
   "source": [
    "for row in screen:\n",
    "    print(''.join(row))"
   ]
  },
  {
   "cell_type": "code",
   "execution_count": 83,
   "metadata": {},
   "outputs": [],
   "source": [
    "answer2 = 'EALGULPG'"
   ]
  },
  {
   "cell_type": "code",
   "execution_count": null,
   "metadata": {},
   "outputs": [],
   "source": []
  }
 ],
 "metadata": {
  "kernelspec": {
   "display_name": "Python 3",
   "language": "python",
   "name": "python3"
  },
  "language_info": {
   "codemirror_mode": {
    "name": "ipython",
    "version": 3
   },
   "file_extension": ".py",
   "mimetype": "text/x-python",
   "name": "python",
   "nbconvert_exporter": "python",
   "pygments_lexer": "ipython3",
   "version": "3.11.1"
  },
  "orig_nbformat": 4,
  "vscode": {
   "interpreter": {
    "hash": "5238573367df39f7286bb46f9ff5f08f63a01a80960060ce41e3c79b190280fa"
   }
  }
 },
 "nbformat": 4,
 "nbformat_minor": 2
}
